{
 "cells": [
  {
   "cell_type": "code",
   "execution_count": 8,
   "id": "5e4632cb",
   "metadata": {},
   "outputs": [],
   "source": [
    "import requests\n",
    "from getpass import getpass\n",
    "import json\n",
    "import jsonlines"
   ]
  },
  {
   "cell_type": "code",
   "execution_count": 2,
   "id": "98e0028f",
   "metadata": {},
   "outputs": [
    {
     "name": "stdout",
     "output_type": "stream",
     "text": [
      "Digite sua senha do ElasticSearch········\n"
     ]
    }
   ],
   "source": [
    "session = requests.Session()\n",
    "session.auth = ('admin', getpass(prompt=\"Digite sua senha do ElasticSearch\"))"
   ]
  },
  {
   "cell_type": "code",
   "execution_count": 23,
   "id": "cb247b82",
   "metadata": {},
   "outputs": [],
   "source": [
    "def search(uri):\n",
    "    HEADERS = {\n",
    "        'Content-Type': 'application/json'\n",
    "    }\n",
    "    \n",
    "    query = '''\n",
    "    {\n",
    "      \"size\": 100, \n",
    "      \"_source\": [\"texto\", \"data_publicacao\"],\n",
    "      \"sort\": [\n",
    "        {\n",
    "          \"data_publicacao\": {\n",
    "            \"order\": \"desc\"\n",
    "          }\n",
    "        }\n",
    "      ]\n",
    "    }\n",
    "    '''\n",
    "    \n",
    "    \n",
    "    response = session.get(url=f'{uri}/mapa-fatos/_search', headers=HEADERS, data=query)\n",
    "    assert response.status_code == 200\n",
    "    \n",
    "    return json.loads(response.text)['hits']['hits']"
   ]
  },
  {
   "cell_type": "code",
   "execution_count": 33,
   "id": "44e846a5",
   "metadata": {
    "scrolled": true
   },
   "outputs": [
    {
     "name": "stdout",
     "output_type": "stream",
     "text": [
      "100\n",
      "{\n",
      "    \"_index\": \"mapa-fatos-2021-01-13-20-33-09\",\n",
      "    \"_type\": \"_doc\",\n",
      "    \"_id\": \"NOTICIA_CLIPPING_53270232\",\n",
      "    \"_score\": null,\n",
      "    \"_source\": {\n",
      "        \"texto\": \"Em entrevista à Rádio Eldorado, o diretor do Instituto Butantan, Dimas Covas, afirmou que a China deve responder até esta sexta-feira, 14, se enviará a matéria-prima contratada para permitir a retomada da produção da Coronavac no Brasil. Na quarta-feira, 12, o governo paulista se reuniu com autoridades chinesas para alinhar o cronograma. A logística de entrega do IFA está paralisada desde abril, após novos ataques do governo Bolsonaro ao país.  <br>    <br>  O presidente do Butantan afirmou que o último lote de vacinas será entregue nesta sexta-feira: 'São insumos que já deveriam estar aqui em solo brasileiro, por que nesse momento não temos matéria-prima para continuar a produção'.  <br>    <br>  'Nesse momento, não temos autorização do governo da China para importar as vacinas da China. Estamos com intensas negociações com a embaixada aqui no Brasil e com o governo da China através da embaixada brasileira em Pequim.'  <br>    <br>  Segundo Dimas Covas, os papéis que autorizam a importação ainda não foram assinados, mas 'o embaixador chinês prometeu resposta ao governador Dória ainda nessa semana'.  <br>    <br>  Lote  <br>    <br>  Na quarta-feira, 12, o Instituto Butantan entregou mais um milhão de doses da coronavac, vacina contra a covid-19, ao Programa Nacional de Imunizações (PNI) do Ministério da Saúde. Com isso, a primeira etapa do contrato entre o governo de São Paulo e o governo federal está concluída. Ao todo, foram entregues 46,1 milhões de doses da vacina desde janeiro.  <br>    <br>  Outro contrato prevê a entrega de 54 milhões de doses à campanha nacional de imunização até o final de setembro. Para fabricá-las, o Butantan depende da chegada de Insumo Farmacêutico Ativo (IFA) produzido na China. O governador João Doria falou que o estoque de insumos deve acabar nesta sexta-feira, 14, e não há previsão para a chegada de uma nova remessa.  <br>    <br>  Segundo Doria, 10 mil litros de IFA, suficientes para produzir 18 milhões de doses de coronavac, estão aguardando liberação do governo chinês para serem enviados ao Brasil. O que impede o envio, disse, são 'entraves diplomáticos' causados pelo presidente Jair Bolsonaro e sua equipe. Nas últimas semanas, o governo federal fez uma série de críticas à China e às vacinas feitas no país.  <br>    <br>  Ontem, o governador informou sobre a reunião do diretor do Butantan, Dimas Covas, com o embaixador do Brasil em Pequim para tratar do assunto. Doria também disse que o ministro das Relações Exteriores, Carlos França, e o embaixador da China no Brasil, Yang Wanming, ajudariam nas negociações.  <br>    <br>  Se o resultado do encontro for positivo, a expectativa é que a carga chegue em São Paulo nos próximos dias. Senão, a produção da Coronavac será paralisada por falta de insumos e a entrega das doses ao governo federal poderá sofrer atrasos. A última remessa de IFA chegou no País há 17 dias.\",\n",
      "        \"data_publicacao\": \"2021-05-14T09:58:00-03:00\"\n",
      "    },\n",
      "    \"sort\": [\n",
      "        1620997080000\n",
      "    ]\n",
      "}\n"
     ]
    }
   ],
   "source": [
    "results = search(\"http://elastic.producao.rancher.tcu.gov.br\")\n",
    "print(len(results))\n",
    "print(json.dumps(results[0], indent=4, ensure_ascii=False))"
   ]
  },
  {
   "cell_type": "code",
   "execution_count": 47,
   "id": "c65adbf7",
   "metadata": {},
   "outputs": [
    {
     "data": {
      "text/plain": [
       "{'id': 'NOTICIA_CLIPPING_53270232',\n",
       " 'text': \"Em entrevista à Rádio Eldorado, o diretor do Instituto Butantan, Dimas Covas, afirmou que a China deve responder até esta sexta-feira, 14, se enviará a matéria-prima contratada para permitir a retomada da produção da Coronavac no Brasil. Na quarta-feira, 12, o governo paulista se reuniu com autoridades chinesas para alinhar o cronograma. A logística de entrega do IFA está paralisada desde abril, após novos ataques do governo Bolsonaro ao país.  <br>    <br>  O presidente do Butantan afirmou que o último lote de vacinas será entregue nesta sexta-feira: 'São insumos que já deveriam estar aqui em solo brasileiro, por que nesse momento não temos matéria-prima para continuar a produção'.  <br>    <br>  'Nesse momento, não temos autorização do governo da China para importar as vacinas da China. Estamos com intensas negociações com a embaixada aqui no Brasil e com o governo da China através da embaixada brasileira em Pequim.'  <br>    <br>  Segundo Dimas Covas, os papéis que autorizam a importação ainda não foram assinados, mas 'o embaixador chinês prometeu resposta ao governador Dória ainda nessa semana'.  <br>    <br>  Lote  <br>    <br>  Na quarta-feira, 12, o Instituto Butantan entregou mais um milhão de doses da coronavac, vacina contra a covid-19, ao Programa Nacional de Imunizações (PNI) do Ministério da Saúde. Com isso, a primeira etapa do contrato entre o governo de São Paulo e o governo federal está concluída. Ao todo, foram entregues 46,1 milhões de doses da vacina desde janeiro.  <br>    <br>  Outro contrato prevê a entrega de 54 milhões de doses à campanha nacional de imunização até o final de setembro. Para fabricá-las, o Butantan depende da chegada de Insumo Farmacêutico Ativo (IFA) produzido na China. O governador João Doria falou que o estoque de insumos deve acabar nesta sexta-feira, 14, e não há previsão para a chegada de uma nova remessa.  <br>    <br>  Segundo Doria, 10 mil litros de IFA, suficientes para produzir 18 milhões de doses de coronavac, estão aguardando liberação do governo chinês para serem enviados ao Brasil. O que impede o envio, disse, são 'entraves diplomáticos' causados pelo presidente Jair Bolsonaro e sua equipe. Nas últimas semanas, o governo federal fez uma série de críticas à China e às vacinas feitas no país.  <br>    <br>  Ontem, o governador informou sobre a reunião do diretor do Butantan, Dimas Covas, com o embaixador do Brasil em Pequim para tratar do assunto. Doria também disse que o ministro das Relações Exteriores, Carlos França, e o embaixador da China no Brasil, Yang Wanming, ajudariam nas negociações.  <br>    <br>  Se o resultado do encontro for positivo, a expectativa é que a carga chegue em São Paulo nos próximos dias. Senão, a produção da Coronavac será paralisada por falta de insumos e a entrega das doses ao governo federal poderá sofrer atrasos. A última remessa de IFA chegou no País há 17 dias.\"}"
      ]
     },
     "execution_count": 47,
     "metadata": {},
     "output_type": "execute_result"
    }
   ],
   "source": [
    "{'id': results[0]['_id'], 'text': results[0]['_source']['texto']}"
   ]
  },
  {
   "cell_type": "code",
   "execution_count": 49,
   "id": "b601666e",
   "metadata": {},
   "outputs": [],
   "source": [
    "with jsonlines.open('mapa_dataset.jsonl', mode='w') as writer:\n",
    "    for index, result in enumerate(results):\n",
    "        writer.write({'id': result['_id'], 'text': result['_source']['texto']})"
   ]
  }
 ],
 "metadata": {
  "kernelspec": {
   "display_name": "ner-unb",
   "language": "python",
   "name": "ner-unb"
  },
  "language_info": {
   "codemirror_mode": {
    "name": "ipython",
    "version": 3
   },
   "file_extension": ".py",
   "mimetype": "text/x-python",
   "name": "python",
   "nbconvert_exporter": "python",
   "pygments_lexer": "ipython3",
   "version": "3.8.8"
  }
 },
 "nbformat": 4,
 "nbformat_minor": 5
}
