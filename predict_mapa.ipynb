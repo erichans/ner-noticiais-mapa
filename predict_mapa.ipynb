{
 "cells": [
  {
   "cell_type": "code",
   "execution_count": 1,
   "metadata": {},
   "outputs": [],
   "source": [
    "import requests\n",
    "from getpass import getpass\n",
    "import json"
   ]
  },
  {
   "cell_type": "code",
   "execution_count": 2,
   "metadata": {},
   "outputs": [
    {
     "name": "stdout",
     "output_type": "stream",
     "text": [
      "Digite sua senha do ElasticSearch········\n"
     ]
    }
   ],
   "source": [
    "session = requests.Session()\n",
    "session.auth = ('admin', getpass(prompt=\"Digite sua senha do ElasticSearch\"))"
   ]
  },
  {
   "cell_type": "code",
   "execution_count": 3,
   "metadata": {},
   "outputs": [],
   "source": [
    "def search(uri):\n",
    "    HEADERS = {\n",
    "        'Content-Type': 'application/json'\n",
    "    }\n",
    "    \n",
    "    query = '''\n",
    "    {\n",
    "      \"size\": 300,\n",
    "      \"_source\": [\n",
    "        \"texto\",\n",
    "        \"data_publicacao\"\n",
    "      ],\n",
    "      \"query\": {\n",
    "        \"range\": {\n",
    "          \"data_publicacao\": {\n",
    "            \"lte\": \"2021-05-14T09:00:00-03:00\"\n",
    "          }\n",
    "        }\n",
    "      }, \n",
    "      \"sort\": [\n",
    "        {\n",
    "          \"data_publicacao\": {\n",
    "            \"order\": \"desc\"\n",
    "          }\n",
    "        }\n",
    "      ]\n",
    "    }\n",
    "    '''\n",
    "    \n",
    "    \n",
    "    response = session.get(url=f'{uri}/mapa-fatos/_search', headers=HEADERS, data=query)\n",
    "    assert response.status_code == 200\n",
    "    \n",
    "    return json.loads(response.text)['hits']['hits']"
   ]
  },
  {
   "cell_type": "code",
   "execution_count": 4,
   "metadata": {
    "scrolled": true
   },
   "outputs": [
    {
     "name": "stdout",
     "output_type": "stream",
     "text": [
      "Conversas diárias com fornecedores globais de microprocessadores, telas de LCD e outros componentes ajudaram a fabricante de computadores Positivo Tecnologia a enfrentar a escassez de componentes, que afeta fabricantes de eletroeletrônicos no mundo desde o início da pandemia.   <br>    <br>    <br>    <br>  Helio Rotenberg, CEO da empresa, diz que a escassez está em seu pico crítico. 'Deste patamar não deve piorar', disse ontem, em teleconferência com analistas.   <br>    <br>    <br>    <br>  Logo após a conferência, enquanto falava com o Valor, Rotenberg recebeu a notícia da queda de energia elétrica na ilha de Taiwan, onde estão diversos fabricantes de chips, incluindo a maior deles, a TSMC. 'Imagine o impacto dessa ilha sem energia', disse.   <br>    <br>    <br>    <br>  O blecaute em Taiwan durou cerca de cinco horas. Antes disso, a fabricante de semicondutores Samsung paralisou a produção no Texas (EUA), em fevereiro, por conta de nevascas. E um mês depois, um incêndio parou a fábrica da japonesa Renesa, importante fornecedora de componentes para semicondutores.   <br>    <br>    <br>    <br>  A TSMC informou que a queda temporária de energia não afetou sua produção, mas a crise global tem exigido mais esforço dos times de compras, no Brasil e na China, e do próprio CEO da Positivo. 'O que antes a gente fazia por email, agora passou a ser em conversas diárias, no relacionamento corpo a corpo mesmo', afirma.   <br>    <br>    <br>    <br>  Há 20 anos a empresa iniciou uma operação de compras e testes de componentes em Taipei e há dez anos, em Shenzen, contando com 25 funcionários.   <br>    <br>    <br>    <br>  A Positivo faz pedidos de componentes com cinco a seis meses de antecedência em relação à entrega de um computador. 'Os pedidos para o primeiro trimestre estavam comprados entre agosto e setembro', diz Rotenberg.   <br>    <br>    <br>    <br>  A estratégia ajudou a fabricante a entregar os pedidos, que aumentaram tanto no varejo como em empresas e órgãos públicos. No primeiro trimestre o lucro líquido foi de R$ 54, 8 milhões, 16 vezes o reportado um ano antes. A receita aumentou 78, 7%, para R$ 676, 4 milhões.   <br>    <br>    <br>    <br>  Com a continuidade do isolamento social por conta da segunda onda da pandemia, a demanda por computadores pessoais, especialmente notebooks, colaborou com o aumento de 152, 3% na receita bruta da divisão de consumo da empresa.   <br>    <br>    <br>    <br>  'As pessoas continuaram em casa, estudando e trabalhando no trimestre e isso faz com que a demanda tivesse um pico', disse Rotenberg. Segundo ele, a maior parte da demanda foi por notebooks na faixa de preço de R$2 mil, mas a linha Vaio, com preços acima de R$ 3, 5 mil, também teve alta (92%) em receita no trimestre em relação aos primeiros três meses de 2020. 'Acreditamos que essa demanda não vai passar após a pandemia porque o trabalho híbrido ainda demandará computadores',   <br>    <br>    <br>    <br>  Este mês, o varejo recebe a nova linha de notebooks da Positivo coma marca Compag, fruto de um contrato de licenciamento da marca fechado em março com a Hewlett-Packard, que completa o portfólio na faixa de R$ 3 mil. Empresas e órgãos públicos voltaram afazer negócios, disse o CEO.  <br>    <br>  \n",
      "--------------------------------------------------------------------------------\n",
      "A reabertura dos estandes de vendas de empreendimentos imobiliários, em São Paulo, desde a segunda quinzena de abril, tem se refletido em aquecimento do ritmo de visitas e de comercialização de unidades. Na EZTec, por exemplo, a média semanal de comercialização de imóveis cresceu 40% desde que os plantões puderam ser reabertos, segundo o diretor financeiro e de relações com investidores, Emilio Fugazza. 'A demanda está muito resiliente', diz.   <br>    <br>    <br>    <br>  Nos últimos 12 meses, os preços médios de unidades em estoque da EZTec tiveram aumento de 10, 4%. Parte dos aumentos dos insumos foi repassada para os valores das unidades. A percepção de alta dos preços contribui para que os clientes tenham 'pressa' para realizar aquisições, segundo Fugazza. Ele acrescenta que o estoque de unidades concluídas da companhia está no menor patamar em sete anos.   <br>    <br>    <br>    <br>  O volume de visitação aos estandes de vendas da Cyrela voltou ao patamar do fim de 2020, segundo o diretor financeiro e de relações com investidores, Miguel Mickelberg. Comisso, conta o executivo, a companhia está retomando a confiança de executar os lançamentos planejados no início do ano.   <br>    <br>    <br>    <br>  Nas próximas semanas, a Cyrela vai apresentar produtos em todos os seus segmentos de atuação e nas regionais em que atua - São Paulo, Rio de Janeiro e Porto Alegre. De acordo com Mickelberg, a companhia espera lançamentos 'um pouquinho acima' dos R$ 5, 1 bilhões de 2020. A Cyrela tem repassado as altas do Índice Nacional de Custos da Construção (INCC) para os preços e, em alguns casos, feito ajustes acima do indicador.   <br>    <br>    <br>    <br>  'A Even está aproveitando o bom momento de mercado para vender mais caro, em vez de vender mais rapidamente', diz o presidente, Leandro Melnick. A incorporadora tem reajustado os preços acima das variações do INCC. Segundo Melnick, o ritmo de visitação aos estandes da Even, em São Paulo, está parecido com o de imediatamente antes do fechamento dos plantões. A Even vem apostando em 'produtos diferenciados', ressalta o presidente, com preços médios superiores aos da região.   <br>    <br>    <br>    <br>  A Cury Construtora e Incorporadora também sentiu melhora na comercialização depois da reabertura dos estandes. Mas, segundo o presidente, Fabio Cury, o impacto do fechamento temporário dos plantões, neste ano, não foi tão relevante quanto em 2020.   <br>    <br>    <br>    <br>  A companhia pretende lançar em torno de R$ 2 bilhões no acumulado de 2021. Nos 12 meses encerrados em março, a incorporadora alcançou essa marca. Em 2020, a Cury apresentou R$ 1, 54 bilhão de projetos ao mercado.   <br>    <br>    <br>    <br>  Já a Tecnisa ainda não sentiu a retomada da demanda conforme esperava, segundo o presidente, Joseph Nigri. 'Estamos fazendo o repasse integral do aumento de custos para os preços. Os clientes demoram um pouquinho para assimilar os valores. Mas, daqui a pouco, vai ficar mais claro para os compradores que a safra nova de lançamentos virá com preços mais elevados', diz Nigri. A Tecnisa mantém a expectativa de lançar entre R$ 1, 2 bilhão e R$ 1, 5 bilhão no biênio 2020-2021. O VGV potencial dos projetos em fase de aprovação é de R$ 1, 19 bilhão.   <br>    <br>    <br>    <br>  No primeiro trimestre, a Tecnisa reduziu seu prejuízo líquido em 54, 9%, na comparação anual, para R$ 26, 4 milhões. A receita líquida caiu 25, 8%, para R$ 32, 7 milhões. A Tecnisa registrou margem bruta de 16, 4%, ante os 16, 5% negativos do primeiro trimestre do ano passado. Segundo . o diretor financeiro e de relações com investidores, Flávio Vidigal de Capua, a tendência é que as margens sejam mantidas.   <br>    <br>    <br>    <br>  O lucro líquido da Cyrela cresceu 6, 86 vezes, para R$ 192 milhões. A receita líquida aumentou 89, 6%, para R$ 1 bilhão. A margem bruta passou de 32, 7% para 34, 5%.   <br>    <br>    <br>    <br>  A Cyrela registrou impacto positivo de R$ 45 milhões das joint ventures na equivalência patrimonial a -R$16milhõesdaCury, R$17milhões da Plano&Plano e R$ 12 miIhões da Lavvi. Por outro lado, houve efeito negativo de R$29 milhões decorrentes de contingências judiciais R$21 milhões em despesas gerais e administrativas e R$8 milhões de provisões. A Cyrela avalia que volume de contingências tende a cair. 'A maior parte dos casos são processos antigos ou correção monetária e juros desses processos. Há um volume pequeno de novas ações', diz Mickelberg.   <br>    <br>    <br>    <br>  A Cury elevou seu lucro líquido em 7, 7 vezes, no primeiro trimestre, para R$ 50 milhões. A receita líquida cresceu 49, 3%, para R$ 339, 3 milhões. Em função do aumento de preços de insumos, a Cury fez revisão de seus orçamentos. Novos ajustes dependerão dos preços de materiais. Apesar da revisão de orçamentos, a margem bruta da companhia aumentou de 34, 4% para 35, 5%. Segundo o presidente, há expectativa de manutenção do indicador ao longo do ano. A melhora da margens foi possível, de acordo com o empresário, pelos incrementos de preços feitos em produtos do Casa Verde e Amarela e, principalmente, em imóveis com valores acima dos enquadrados no programa habitacional.   <br>    <br>    <br>    <br>  O lucro líquido da Even cresceu 2, 3 vezes, para R$83, 6 milhões, seu melhor resultado desde 2013. A receita aumentou 68%, para R$683, 4 milhões. A margem bruta ajustada caiu de 32, 8% para 29, 8%. Segundo o diretor financeiro e de relações com investidores, Carlos Wollenweber, a Even não espera 'grandes volatilidades de margem'.  <br>    <br>    <br>    <br>  'Apesar dos ganhos de preços, há aumentos dos valores de terrenos edos custos de construção', diz.   <br>    <br>    <br>    <br>  A EZTec obteve queda de 6% no lucro líquido, para R$ 72, 9 milhões. A receita caiu 22%, para R$ 195 milhões. O menor ritmo de execução de obras devido às medidas sanitárias decorrentes da pandemia de covid-19 e os prazos maiores para recebimento de materiais prejudicaram o reconhecimento da receita. Ainda assim, os prazos para a entrega dos projetos estão mantidos. A margem bruta aumentou de 40, 6% para 42, 5%.  <br>    <br>  \n",
      "--------------------------------------------------------------------------------\n",
      "A região de Mato Grosso do Sul conta hoje com superávit de madeira e não há risco de escassez nos próximos anos, quando novas fábricas de celulose devem entrar em operação e consumir volumes crescentes da matéria prima cultivada no Estado, na avaliação do gerente de consultoria em Energia e Agroindústria da Póyry no Brasil, Dominique Duly.   <br>    <br>    <br>    <br>  O anúncio de diferentes projetos de celulose e de outros produtos florestais levou a uma corrida por madeira e terras no Estado a partir do ano passado, e não há consenso entre fontes da indústria e consultorias quanto à disponibilidade do insumo para todos, pelo menos ao mesmo tempo.   <br>    <br>    <br>    <br>  A Pôyry é referência para a indústria de papel e celulose no mundo e concluiu em dezembro os serviços de engenharia básica da fábrica e do porto fluvial da Paracel, que será erguida no Paraguai. Também atuou na realização dos estudos de impacto ambiental necessários ao licenciamento.  <br>    <br>    <br>    <br>  Conforme Duly, há na região de Mato Grosso do Sul oferta superior a 40 milhões de metros cúbicos de madeira sem casca, e apenas 20 milhões de metros cúbicos são consumidos. Considerando-se as novas fábricas de celulose anunciadas ou planejadas  Paracel, Suzano em Ribas do Rio Pardo (MS), expansão da Eldorado em Três Lagoas (MS) e Euca Energy em Alto Araguaia (MT) , a demanda adicional de madeira será de 26 milhões de metros cúbicos por ano.   <br>    <br>    <br>    <br>  'A oferta atual já seria suficiente para o novo consumo. E é preciso considerar que Paracel e Euca Energy vão usar madeira de Mato Grosso do Sul somente no início da operação', afirma. Além disso, observa, embora todos os projetos devam seguir em frente, é improvável que saiam ao mesmo momento, para evitar um desequilíbrio no mercado de celulose.   <br>    <br>    <br>    <br>  Nos últimos dois anos, a Suzano acelerou a compra de terras e madeira em Mato Grosso do Sul para abastecer o Projeto Cerrado, aprovado na quarta-feira pelo conselho de administração. A nova fábrica, em Ribas do Rio Pardo, receberá investimentos de R$ 14, 7 bilhões (US$2, 8 bilhões ao câmbio atual) e terá capacidade de produção de 2, 3 milhões de toneladas de celulose de eucalipto ao ano. A companhia já tem 85% da madeira necessária para início de operação no primeiro trimestre de 2024.   <br>    <br>    <br>    <br>  Segundo a Pôyry, a variação do Índice Nacional de Custos da Atividade Florestal (INCAF) chegou a 4, 3% no primeiro trimestre, acima da inflação de 2%, com valorização particularmente do pinus. Condições favoráveis à exportação câmbio e retomada da atividade em alguns mercados importantes, como China e Estados Unidos, que elevou os preços em dólar e alguma escassez de madeira em determinadas regiões ajudam a explicar a alta dos preços da madeira no país, diz Duly.  <br>    <br>    <br>    <br>  Em 12 meses, o INCAF, que é calculado pela Pôyry e divulgado a cada trimestre, acumula alta de 7, 3%, contra 6, 2% da inflação. (SF)  <br>    <br>  \n",
      "--------------------------------------------------------------------------------\n",
      "Turismo legitimado: espetáculos e invisibilidades Helio Hintze. Edições Sesc, R$ 80   <br>    <br>    <br>    <br>  Obra crítica à atividade turística como mecanismo de produção de subjetividade capitalista, este livro nasceu da tese de doutorado do educador, filósofo e pesquisador para a ESALQ-USP. Hintze encontrou textos que 'procuram legitimar o turismo como algo que, se bem planejado, é indutor de desenvolvimento', escreve. Mas foi fundo e concluiu: o que se busca é legitimar o próprio Capital como única forma de se deslocar pela Terra'. Quando tudo é mercadoria, povos, culturas e lugares viram pacotes para privilegiados. Ele aborda ainda o racismo como constituinte de base do turismo na produção de espetáculos e invisibilidades. A obra tem também um texto sobre turismo em tempos da covid-19.  <br>    <br>    <br>    <br>  Debaixo do vulcão Malcolm Lowry. Trad. : José Rubens Siqueira. Alfaguara, R$ 89,90   <br>    <br>    <br>    <br>  Lançado em 1947, este livro, considerado um dos grandes clássicos do século XX, ganha agora nova tradução e edição. O título, que traz a luta de um homem contra as forças que ameaçam destruí-lo, foi um dos dois romances lançados pelo autor ainda em vida. O inglês Lowry (1909-1957) veio de família de posses: seu pai, corretor de algodão, sonhava vê-lo em Cambridge e depois assumir os negócios. Não era o desejo de Malcolm, ansioso para conhecer o mundo. Aos 18, embarcou como marinheiro em um navio que seguia para o Extremo Oriente. Aos 20 entraria na universidade, mas a essa altura já tinha consolidadas suas duas obsessões, o álcool e a literatura. Sua segunda esposa inspirou a heroína Yvonne em 'Debaixo do vulcão'.   <br>    <br>    <br>    <br>  Joelmir Beting Edvaldo Pereira Lima Beting Books, R$79,00   <br>    <br>    <br>    <br>  'Biografia-perfil' encomendada por um dos filhos do 'jornalista de economia mais influente do Brasil', morto em 2012, aos 75 anos. Mescla episódios da carreira e da vida privada do comentarista com digressões do autor ou pessoas próximas. Joelmir foi coroinha e formou-se em sociologia antes da especialização em economia. O auge de sua trajetória coincidiu com o ápice da conturbação econômica do país. Com sua postura sempre elegante, 'quase sisuda', inovou ao desenvolver um jeito de traduzir os complexos termos de sucessivos e mirabolantes planos econômicos. E em alguns casos, como no confisco da poupança por Collor, 1990, também se encarregava de transmitir a estupefação. Fazia isso à perfeição.   <br>    <br>    <br>    <br>  A família Mandible - 2029-2047 Lionel Shriver. Trad. : Vera Ribeiro Intrínseca, R$ 64,90   <br>    <br>    <br>    <br>  Uma guerra fria de escala mundial altera os eixos do poder. Os EUA perdem a proeminência financeira, a União Europeia acaba e a China é alçada a maior potência global. Nesse mundo ficcional, o dólar perde prestígio e valor e surge o bancor, nova moeda internacional. A população passa a enfrentar inflação e um dia a dia com água racionada e a primeira refeição sem café, já que as mudanças climáticas quebraram as safras do grão. Ah, jornais não existem mais. Florence Mandible e os seus personificam o que resta da classe média americana. A moça acolhe a tia e a irmã com a família. Florence administra esse microecossistema e seus problemas, como furto e consumo de álcool. Shriver é autora de 'Precisamos falar sobre o Kevin'. m  <br>    <br>  \n",
      "--------------------------------------------------------------------------------\n",
      "E mais: se o projeto que flexibiliza o licenciamento ambiental for aprovado, 'a imagem do Brasil no exterior vai piorar ainda mais', prevê Barbosa.\n",
      "--------------------------------------------------------------------------------\n"
     ]
    }
   ],
   "source": [
    "results = search(\"http://elastic.producao.rancher.tcu.gov.br\")\n",
    "\n",
    "for result in results[:5]:\n",
    "    print(result['_source']['texto'])\n",
    "    print('-'* 80)\n",
    "# responses_elasticsearch = result['responses']\n",
    "# len(responses_elasticsearch)"
   ]
  },
  {
   "cell_type": "code",
   "execution_count": 5,
   "metadata": {},
   "outputs": [],
   "source": [
    "from transformers import BertTokenizerFast, BertConfig, \\\n",
    "    Trainer, TrainingArguments, EvalPrediction, IntervalStrategy\n",
    "\n",
    "import numpy as np\n",
    "from seqeval.metrics import accuracy_score, precision_score, recall_score, f1_score, \\\n",
    "    classification_report, performance_measure\n",
    "from typing import Tuple, List, Dict\n",
    "\n",
    "from torch import nn\n",
    "from ner.news_dataset import NewsDataset\n",
    "\n",
    "from sklearn_crfsuite.metrics import flat_classification_report\n",
    "\n",
    "import torch\n",
    "from sklearn.model_selection import train_test_split\n",
    "from ner.process_dataset import ProcessDataset\n",
    "from ner.model import BertNER\n",
    "from transformers import BertTokenizerFast\n",
    "import transformers\n",
    "\n",
    "import logging\n",
    "import pickle\n",
    "from pathlib import Path\n",
    "import re\n",
    "# from transformers import pipeline"
   ]
  },
  {
   "cell_type": "code",
   "execution_count": 6,
   "metadata": {},
   "outputs": [],
   "source": [
    "unique_tags = sorted(['B-LOC', 'I-LOC', 'B-PUB', 'I-PUB', 'B-PESSOA', 'I-PESSOA', 'B-ORG', 'I-ORG', 'O'])\n",
    "\n",
    "tag2id = {tag: id_gerado for id_gerado, tag in enumerate(unique_tags)}\n",
    "id2tag = {id_geraddo: tag for tag, id_geraddo in tag2id.items()}\n",
    "\n",
    "tokenizer = BertTokenizerFast.from_pretrained('neuralmind/bert-base-portuguese-cased', model_max_length=512,\n",
    "                                              do_lower_case=False)\n",
    "\n",
    "model = BertNER.from_pretrained('models/pub/30_epochs_base_pt_BR', id2label=id2tag, label2id=tag2id)"
   ]
  },
  {
   "cell_type": "code",
   "execution_count": 7,
   "metadata": {},
   "outputs": [
    {
     "name": "stdout",
     "output_type": "stream",
     "text": [
      "LEGENDA DAS CORES:\n",
      "   \u001b[94mPESSOA\u001b[0m\n",
      "   \u001b[93mLOCAL\u001b[0m\n",
      "   \u001b[36mORGANIZAÇÃO PRIVADA\u001b[0m\n",
      "   \u001b[35mENTIDADE PÚBLICA\u001b[0m\n"
     ]
    }
   ],
   "source": [
    "bcolors = {\n",
    "    \"PESSOA\": '\\033[94m',\n",
    "    #\"TEMPO\": '\\033[92m',\n",
    "    \"LOC\": '\\033[93m',\n",
    "    \"ORG\": '\\033[36m',\n",
    "    \"PUB\": '\\033[35m',\n",
    "    #\"LEGISLACAO\": '\\033[36m',\n",
    "    \"ENDC\": '\\033[0m',\n",
    "    \"O\": \"\"\n",
    "}\n",
    "\n",
    "def print_legenda():\n",
    "    print('LEGENDA DAS CORES:')\n",
    "    print(' ' * 2, bcolors['PESSOA'] + 'PESSOA' + bcolors['ENDC'])\n",
    "    print(' ' * 2, bcolors['LOC'] + 'LOCAL' + bcolors['ENDC'])\n",
    "    print(' ' * 2, bcolors['ORG'] + 'ORGANIZAÇÃO PRIVADA' + bcolors['ENDC'])\n",
    "    print(' ' * 2, bcolors['PUB'] + 'ENTIDADE PÚBLICA' + bcolors['ENDC'])\n",
    "print_legenda()    "
   ]
  },
  {
   "cell_type": "code",
   "execution_count": 8,
   "metadata": {},
   "outputs": [],
   "source": [
    "special_tokens = [tokenizer.unk_token, tokenizer.sep_token, tokenizer.pad_token, tokenizer.cls_token, tokenizer.mask_token]\n",
    "\n",
    "def mask_output_iob2(batch_predictions: np.ndarray, j: int, batch_predictions_tags: List):\n",
    "    # First token: possible predictions: O, B-*. Others = -100 or\n",
    "    # if last prediction was E-XXX, then only accepts B-XYZ or O or\n",
    "    # if last prediction was O, then only accepts B-XYZ or O\n",
    "    if len(batch_predictions_tags) == 0 or batch_predictions_tags[-1][:1] == 'O':\n",
    "        batch_predictions[j, [id for id, tag in id2tag.items() if tag[:1] not in ['B', 'O']]] = -100\n",
    "    # if last prediction was B-XXX, then only accepts I-XXX, O or B-XYZ\n",
    "    elif batch_predictions_tags[-1][:1] == 'B':\n",
    "        batch_predictions[j, [id for id, tag in id2tag.items() if tag not in [f'I-{batch_predictions_tags[-1][2:]}',\n",
    "                                                                              'O'] and tag[:1] != 'B']] = -100\n",
    "    # if last prediction was I-XXX, then only accepts I-XXX, B or O\n",
    "    elif batch_predictions_tags[-1][:1] == 'I':\n",
    "        batch_predictions[j, [id for id, tag in id2tag.items() if tag not in [f'I-{batch_predictions_tags[-1][2:]}']\n",
    "                              and tag[:1] not in ['B', 'O']]] = -100\n",
    "\n",
    "    return model.config.id2label[np.argmax(batch_predictions[j])]\n",
    "\n",
    "def decode_preds(tokens, pred_labels, confidences):\n",
    "    result = []\n",
    "    preds_entities = pred_labels.copy()\n",
    "    for index, (token, pred, confidence) in enumerate(zip(tokens, pred_labels, confidences)):\n",
    "        if token in special_tokens:\n",
    "            continue\n",
    "        \n",
    "        if pred[:2] in ['B-', 'I-', 'E-', 'S-']:\n",
    "            preds_entities[index] = pred[2:]\n",
    "        \n",
    "        if token[:2] == '##':\n",
    "            result[-1][0] = result[-1][0].replace(bcolors['ENDC'], token[2:] + bcolors['ENDC'])\n",
    "        else:\n",
    "            result.append([bcolors[preds_entities[index]] + token + bcolors['ENDC'], np.round(torch.max(confidence).item(), 2)])\n",
    "\n",
    "    return result\n",
    "\n",
    "def align_predictions(predictions):\n",
    "    preds = np.argmax(predictions, axis=-1)\n",
    "    seq_len = preds.shape[0]\n",
    "    preds_masked = []\n",
    "\n",
    "    for j in range(seq_len):\n",
    "#             preds_list[i].append(id2tag[np.argmax(predictions[i][j])])\n",
    "        preds_masked.append(mask_output_iob2(predictions, j, preds_masked))\n",
    "            \n",
    "    return preds_masked\n",
    "                \n",
    "\n",
    "def predict(text):\n",
    "    token_indices = tokenizer.encode(text)\n",
    "    tokens_tensor = torch.LongTensor(token_indices).unsqueeze(0)\n",
    "    # print(tokens_tensor)\n",
    "#     print(tokenizer.decode(token_indices))\n",
    "    # model.to('cuda')\n",
    "    with torch.no_grad():\n",
    "        outputs = model(tokens_tensor)\n",
    "    #     print('outputs', outputs)\n",
    "        confidences = nn.Softmax(dim=-1)(outputs.logits).squeeze()\n",
    "#         print(outputs.logits.numpy().squeeze(0).shape)\n",
    "        pred_labels = align_predictions(outputs.logits.numpy().squeeze(0))\n",
    "\n",
    "    # print('predicted_indices', predicted_indices)\n",
    "#     pred_labels = [model.config.id2label[predicted_index.item()] for predicted_index in predicted_indices]\n",
    "    # print(pred_labels)\n",
    "\n",
    "    tokens = tokenizer.convert_ids_to_tokens(token_indices)\n",
    "    assert len(tokens) == len(pred_labels)\n",
    "    print('\\n')\n",
    "    \n",
    "    return decode_preds(tokens, pred_labels, confidences)\n"
   ]
  },
  {
   "cell_type": "code",
   "execution_count": 9,
   "metadata": {},
   "outputs": [],
   "source": [
    "index = 256 # index to show some outputs"
   ]
  },
  {
   "cell_type": "code",
   "execution_count": 10,
   "metadata": {},
   "outputs": [
    {
     "name": "stdout",
     "output_type": "stream",
     "text": [
      "Total word tokens: 715\n",
      "['Quando', 'o', 'conflito', 'se', 'intensifica', ',', 'a', 'luta', 'política', 'em', 'Israel', 'arrefece', '.', 'Quando', 'o', 'país', 'fica', 'à', 'beira', 'da', 'guerra', ',', 'a', 'oposição', 'se', 'alinha', 'ao', 'governo', '.', 'Mas', 'não', 'desta', 'vez', '.', 'Enquanto', 'o', 'confronto', 'em', 'Gaza', 'provoca', 'destruição', 'e', 'a', 'violência', 'sectária', 'entre', 'árabes', 'e', 'judeus', 'se', 'intensifica', ',', 'um', 'dos', 'opositores', 'de', 'Binyamin', 'Netanyahu', 'culpa', 'o', 'primeiro', '-', 'ministro', 'pela', 'sensação', 'de', 'caos', 'e', 'trabalha', 'para', 'tirá', '-', 'lo', 'do', 'cargo', '.', 'br', 'br', 'Yair', 'Lapid', 'disse', 'que', 'os', 'acontecimentos', 'da', 'última', 'semana', \"'não\", 'podem', 'servir', 'de', 'desculpa', 'para', 'Netanyahu', 'se', 'manter', 'no', \"poder'\", '.', \"'É\", 'por', 'isso', 'que', 'ele', 'deveria', 'ser', 'substituído', 'o', 'mais', 'rapidamente', \"possível'\", ',', 'escreveu', 'Lapid', ',', 'no', 'Facebook', '.', 'br', 'br', 'A', 'escalada', 'da', 'crise', 'ocorre', 'em', 'um', 'momento', 'crucial', 'para', 'a', 'política', 'israelense', '.', 'Poucos', 'dias', 'atrás', ',', 'Netanyahu', ',', 'que', 'é', 'julgado', 'por', 'corrupção', 'e', 'não', 'conseguiu', 'formar', 'governo', 'após', 'quatro', 'eleições', 'em', 'dois', 'anos', ',', 'parecia', 'prestes', 'a', 'perder', 'o', 'cargo', '.', 'Lapid', 'obteve', 'a', 'chance', 'de', 'formar', 'uma', 'coalizão', '.', 'Seus', 'parceiros', 'são', 'um', 'discrepante', 'grupo', 'de', 'pequenos', 'partidos', 'com', 'agendas', 'conflitantes', ',', 'e', 'ele', 'tem', 'até', '2', 'de', 'junho', 'para', 'formar', 'uma', 'aliança', '.', 'br', 'br', 'O', 'derramamento', 'de', 'sangue', 'tanto', 'facilita', 'quando', 'dificulta', 'o', 'esforço', 'de', 'Lapid', '.', 'Os', 'críticos', 'de', 'Netanyahu', 'têm', 'agora', 'mais', 'razões', 'para', 'querer', 'vê', '-', 'lo', 'partir', '.', 'Mas', ',', 'ao', 'mesmo', 'tempo', ',', 'afirmam', 'analistas', ',', 'a', 'violência', 'enfatizou', 'as', 'diferenças', 'entre', 'os', 'partidos', 'de', 'oposição', '.', 'E', 'o', 'impulso', 'inicial', 'para', 'negociar', 'uma', 'coalizão', 'foi', 'reduzido', 'pela', 'violência', '.', \"'Fica\", 'muito', 'difícil', 'negociar', 'enquanto', 'foguetes', 'estão', 'sendo', 'disparados', 'e', 'o', 'prazo', 'para', 'formar', 'coalizão', 'se', \"aproxima'\", ',', 'afirmou', 'Reuven', 'Hazan', ',', 'professor', 'de', 'ciência', 'política', 'da', 'Universidade', 'Hebraica', 'de', 'Jerusalém', '.', \"'Negociações\", 'que', 'já', 'seriam', 'complicadas', 'ficaram', 'ainda', 'mais', 'complicadas', ',', 'o', 'que', 'favorece', 'Netanyahu', '.', \"'\", 'br', 'br', 'Um', 'dos', 'elementos', '-', 'chave', 'para', 'uma', 'coalizão', 'anti', '-', 'Netanyahu', 'está', 'nas', 'mãos', 'de', 'Mansour', 'Abbas', ',', 'líder', 'de', 'um', 'pequeno', 'partido', 'árabe', 'conhecido', 'como', \"Ra'am\", '.', 'Os', 'principais', 'partidos', 'que', 'governaram', 'o', 'país', 'sempre', 'evitaram', 'depender', 'de', 'votos', 'árabes', 'no', 'Parlamento', ',', 'particularmente', 'em', 'razão', 'do', 'foco', 'nas', 'questões', 'de', 'segurança', '.', 'E', 'legisladores', 'árabes', 'nunca', 'quiseram', 'participar', 'de', 'governos', 'e', 'ter', 'de', 'compartilhar', 'responsabilidade', 'pelas', 'ações', 'militares', 'de', 'Israel', '.', 'br', 'br', 'Abbas', 'planejava', 'mudar', 'isso', '.', 'Após', 'negociações', 'com', 'Netanyahu', 'fracassarem', ',', 'ele', 'se', 'inclinou', 'para', 'uma', 'cooperação', 'com', 'Lapid', '.', 'Mas', ',', 'quando', 'as', 'tensões', 'religiosas', 'e', 'nacionalistas', 'explodiram', ',', 'ele', 'suspendeu', 'as', 'negociações', '.', 'Muitos', 'analistas', 'acreditam', 'que', 'a', 'escalada', 'de', 'violência', 'cria', 'novos', 'obstáculos', 'para', 'o', 'envolvimento', 'de', 'Abbas', 'na', 'coalizão', '.', 'O', 'apoio', 'dele', 'a', 'um', 'governo', 'que', 'inclui', 'israelenses', 'de', 'direita', 'seria', 'difícil', 'de', 'engolir', 'para', 'sua', 'base', 'eleitoral', '.', \"'Se\", 'as', 'ideologias', 'opostas', 'já', 'deixavam', 'muitos', 'com', 'um', 'pé', 'atrás', 'nas', 'negociações', ',', 'agora', 'eles', 'estão', 'com', 'os', 'dois', 'pés', \"atrás'\", ',', 'afirmou', 'Hazan', '.', 'br', 'br', 'A', 'crise', 'pode', 'ajudar', 'Netanyahu', 'a', 'conquistar', 'o', 'apoio', 'de', 'opositores', 'que', 'prometeram', 'não', 'integrar', 'um', 'governo', 'liderado', 'por', 'ele', ',', 'afirmou', 'Mitchell', 'Barak', ',', 'analista', 'com', 'base', 'em', 'Jerusalém', '.', \"'Netanyahu\", 'está', 'exatamente', 'onde', 'quer', 'estar', ',', 'no', 'meio', 'de', 'uma', 'grande', 'crise', 'que', 'faz', 'as', 'pessoas', 'não', 'quererem', 'mudar', 'o', 'premiê', 'nem', 'o', 'ministro', 'da', \"Defesa'\", ',', 'afirmou', 'Barak', '.', \"'Partido\", 'e', 'políticos', 'não', 'querem', 'ser', 'cobrados', 'por', 'nenhuma', 'promessa', 'de', 'campanha', 'em', 'razão', 'dessa', 'situação', '.', \"'\", 'br', 'br', 'Um', 'dos', 'principais', 'rivais', 'do', 'premiê', ',', 'Benny', 'Gantz', ',', 'ministro', 'da', 'Defesa', ',', 'supervisiona', 'a', 'campanha', 'militar', 'em', 'Gaza', 'em', 'coordenação', 'com', 'Netanyahu', '.', 'Alguns', 'analistas', 'especulam', 'que', 'essa', 'crise', 'pode', 'ajudá', '-', 'lo', 'a', 'persuadir', 'Gantz', 'a', 'ficar', 'do', 'seu', 'lado', 'e', 'mantê', '-', 'lo', 'no', 'poder', '.', 'Sob', 'o', 'acordo', 'de', 'coalizão', 'que', 'ambos', 'alcançaram', ',', 'no', 'ano', 'passado', ',', 'Gantz', 'assumiria', 'como', 'primeiro', '-', 'ministro', 'em', 'novembro', '.', 'Esse', 'pacto', 'ruiu', 'em', 'razão', 'de', 'uma', 'crise', 'de', 'orçamento', ',', 'que', 'provocou', 'as', 'eleições', 'de', 'março', '.', 'br', 'br', \"'Eles\", 'têm', 'de', 'coordenar', 'juntos', 'uma', 'guerra', ',', 'quando', 'não', 'conseguem', 'nem', 'manter', 'um', 'acordo', 'de', \"coalizão'\", ',', 'disse', 'Dahlia', 'Scheindlin', ',', 'analista', 'de', 'Tel', '-', 'Aviv', '.', 'Ela', 'acrescentou', ',', 'porém', ',', 'que', \"'quanto\", 'mais', 'próximos', 'da', 'guerra', 'total', ',', 'mais', 'fácil', 'fica', 'argumentar', 'que', 'não', 'é', 'possível', 'mudar', 'o', \"governo'\", '.']\n"
     ]
    }
   ],
   "source": [
    "word_tokens = re.findall(r\"[\\w']+|[-.,!?;()]\", results[index]['_source']['texto'])\n",
    "print('Total word tokens:', len(word_tokens))\n",
    "print(word_tokens)"
   ]
  },
  {
   "cell_type": "code",
   "execution_count": 11,
   "metadata": {},
   "outputs": [
    {
     "name": "stderr",
     "output_type": "stream",
     "text": [
      "Token indices sequence length is longer than the specified maximum sequence length for this model (909 > 512). Running this sequence through the model will result in indexing errors\n"
     ]
    },
    {
     "name": "stdout",
     "output_type": "stream",
     "text": [
      "Total WordPiece tokens: 909\n",
      "['[CLS]', 'Quando', 'o', 'conflito', 'se', 'intens', '##ifica', ',', 'a', 'luta', 'política', 'em', 'Israel', 'arre', '##fec', '##e', '.', 'Quando', 'o', 'país', 'fica', 'à', 'beira', 'da', 'guerra', ',', 'a', 'oposição', 'se', 'alinha', 'ao', 'governo', '.', 'Mas', 'não', 'desta', 'vez', '.', 'Enquanto', 'o', 'confronto', 'em', 'Gaza', 'provoca', 'destruição', 'e', 'a', 'violência', 'se', '##ct', '##ária', 'entre', 'árabes', 'e', 'judeus', 'se', 'intens', '##ifica', ',', 'um', 'dos', 'opositores', 'de', 'Bi', '##ny', '##ami', '##n', 'Net', '##any', '##ah', '##u', 'culpa', 'o', 'primeiro', '-', 'ministro', 'pela', 'sensação', 'de', 'caos', 'e', 'trabalha', 'para', 'ti', '##rá', '-', 'lo', 'do', 'cargo', '.', '<', 'b', '##r', '>', '<', 'b', '##r', '>', 'Ya', '##ir', 'La', '##pi', '##d', 'disse', 'que', 'os', 'acontecimentos', 'da', 'última', 'semana', \"'\", 'não', 'podem', 'servir', 'de', 'descul', '##pa', 'para', 'Net', '##any', '##ah', '##u', 'se', 'manter', 'no', 'poder', \"'\", '.', \"'\", 'É', 'por', 'isso', 'que', 'ele', 'deveria', 'ser', 'substituído', 'o', 'mais', 'rapidamente', 'possível', \"'\", ',', 'escreveu', 'La', '##pi', '##d', ',', 'no', 'Facebook', '.', '<', 'b', '##r', '>', '<', 'b', '##r', '>', 'A', 'escalada', 'da', 'crise', 'ocorre', 'em', 'um', 'momento', 'crucial', 'para', 'a', 'política', 'israelense', '.', 'Poucos', 'dias', 'atrás', ',', 'Net', '##any', '##ah', '##u', ',', 'que', 'é', 'julgado', 'por', 'corrupção', 'e', 'não', 'conseguiu', 'formar', 'governo', 'após', 'quatro', 'eleições', 'em', 'dois', 'anos', ',', 'parecia', 'prestes', 'a', 'perder', 'o', 'cargo', '.', 'La', '##pi', '##d', 'obteve', 'a', 'chance', 'de', 'formar', 'uma', 'coalizão', '.', 'Seus', 'parceiros', 'são', 'um', 'discre', '##pan', '##te', 'grupo', 'de', 'pequenos', 'partidos', 'com', 'agenda', '##s', 'confl', '##itante', '##s', ',', 'e', 'ele', 'tem', 'até', '2', 'de', 'junho', 'para', 'formar', 'uma', 'aliança', '.', '<', 'b', '##r', '>', '<', 'b', '##r', '>', 'O', 'der', '##rama', '##mento', 'de', 'sangue', 'tanto', 'facil', '##ita', 'quando', 'dificul', '##ta', 'o', 'esforço', 'de', 'La', '##pi', '##d', '.', 'Os', 'críticos', 'de', 'Net', '##any', '##ah', '##u', 'têm', 'agora', 'mais', 'razões', 'para', 'querer', 'vê', '-', 'lo', 'partir', '.', 'Mas', ',', 'ao', 'mesmo', 'tempo', ',', 'afirmam', 'analis', '##tas', ',', 'a', 'violência', 'enfa', '##tizou', 'as', 'diferenças', 'entre', 'os', 'partidos', 'de', 'oposição', '.', 'E', 'o', 'impulso', 'inicial', 'para', 'negociar', 'uma', 'coalizão', 'foi', 'reduzido', 'pela', 'violência', '.', \"'\", 'Fica', 'muito', 'difícil', 'negociar', 'enquanto', 'foguetes', 'estão', 'sendo', 'dispara', '##dos', 'e', 'o', 'prazo', 'para', 'formar', 'coalizão', 'se', 'aproxima', \"'\", ',', 'afirmou', 'Re', '##u', '##ven', 'Ha', '##zan', ',', 'professor', 'de', 'ciência', 'política', 'da', 'Universidade', 'He', '##bra', '##ica', 'de', 'Jerusalém', '.', \"'\", 'Neg', '##oc', '##ia', '##ções', 'que', 'já', 'seriam', 'complic', '##adas', 'ficaram', 'ainda', 'mais', 'complic', '##adas', ',', 'o', 'que', 'favore', '##ce', 'Net', '##any', '##ah', '##u', '.', \"'\", '<', 'b', '##r', '>', '<', 'b', '##r', '>', 'Um', 'dos', 'elementos', '-', 'chave', 'para', 'uma', 'coalizão', 'anti', '-', 'Net', '##any', '##ah', '##u', 'está', 'nas', 'mãos', 'de', 'Mans', '##our', 'Ab', '##bas', ',', 'líder', 'de', 'um', 'pequeno', 'partido', 'árabe', 'conhecido', 'como', 'Ra', \"'\", 'am', '.', 'Os', 'principais', 'partidos', 'que', 'governar', '##am', 'o', 'país', 'sempre', 'evitar', '##am', 'depender', 'de', 'votos', 'árabes', 'no', 'Parlamento', ',', 'particularmente', 'em', 'razão', 'do', 'foco', 'nas', 'questões', 'de', 'segurança', '.', 'E', 'legisla', '##dores', 'árabes', 'nunca', 'quis', '##eram', 'participar', 'de', 'governos', 'e', 'ter', 'de', 'compartilhar', 'responsa', '##bilidade', 'pelas', 'ações', 'militares', 'de', 'Israel', '.', '<', 'b', '##r', '>', '<', 'b', '##r', '>', 'Ab', '##bas', 'planeja', '##va', 'mudar', 'isso', '.', 'Após', 'negociações', 'com', 'Net', '##any', '##ah', '##u', 'fracass', '##are', '##m', ',', 'ele', 'se', 'incl', '##inou', 'para', 'uma', 'cooperação', 'com', 'La', '##pi', '##d', '.', 'Mas', ',', 'quando', 'as', 'tensões', 'religiosas', 'e', 'nacionalistas', 'explo', '##dir', '##am', ',', 'ele', 'suspe', '##ndeu', 'as', 'negociações', '.', 'Muitos', 'analis', '##tas', 'acreditam', 'que', 'a', 'escalada', 'de', 'violência', 'cria', 'novos', 'obstáculos', 'para', 'o', 'envolvimento', 'de', 'Ab', '##bas', 'na', 'coalizão', '.', 'O', 'apoio', 'dele', 'a', 'um', 'governo', 'que', 'inclui', 'israelense', '##s', 'de', 'direita', 'seria', 'difícil', 'de', 'eng', '##oli', '##r', 'para', 'sua', 'base', 'eleitoral', '.', \"'\", 'Se', 'as', 'ideologia', '##s', 'oposta', '##s', 'já', 'deixa', '##vam', 'muitos', 'com', 'um', 'pé', 'atrás', 'nas', 'negociações', ',', 'agora', 'eles', 'estão', 'com', 'os', 'dois', 'pés', 'atrás', \"'\", ',', 'afirmou', 'Ha', '##zan', '.', '<', 'b', '##r', '>', '<', 'b', '##r', '>', 'A', 'crise', 'pode', 'ajudar', 'Net', '##any', '##ah', '##u', 'a', 'conquistar', 'o', 'apoio', 'de', 'opositores', 'que', 'promete', '##ram', 'não', 'integrar', 'um', 'governo', 'liderado', 'por', 'ele', ',', 'afirmou', 'Mitchell', 'Bara', '##k', ',', 'analis', '##ta', 'com', 'base', 'em', 'Jerusalém', '.', \"'\", 'Net', '##any', '##ah', '##u', 'está', 'exatamente', 'onde', 'quer', 'estar', ',', 'no', 'meio', 'de', 'uma', 'grande', 'crise', 'que', 'faz', 'as', 'pessoas', 'não', 'querer', '##em', 'mudar', 'o', 'premi', '##ê', 'nem', 'o', 'ministro', 'da', 'Defesa', \"'\", ',', 'afirmou', 'Bara', '##k', '.', \"'\", 'Partido', 'e', 'políticos', 'não', 'querem', 'ser', 'cobra', '##dos', 'por', 'nenhuma', 'promessa', 'de', 'campanha', 'em', 'razão', 'dessa', 'situação', '.', \"'\", '<', 'b', '##r', '>', '<', 'b', '##r', '>', 'Um', 'dos', 'principais', 'rivais', 'do', 'premi', '##ê', ',', 'Ben', '##ny', 'Gan', '##tz', ',', 'ministro', 'da', 'Defesa', ',', 'supervision', '##a', 'a', 'campanha', 'militar', 'em', 'Gaza', 'em', 'coordenação', 'com', 'Net', '##any', '##ah', '##u', '.', 'Alguns', 'analis', '##tas', 'especul', '##am', 'que', 'essa', 'crise', 'pode', 'ajudá', '-', 'lo', 'a', 'persuad', '##ir', 'Gan', '##tz', 'a', 'ficar', 'do', 'seu', 'lado', 'e', 'mant', '##ê', '-', 'lo', 'no', 'poder', '.', 'Sob', 'o', 'acordo', 'de', 'coalizão', 'que', 'ambos', 'alcançaram', ',', 'no', 'ano', 'passado', ',', 'Gan', '##tz', 'assumir', '##ia', 'como', 'primeiro', '-', 'ministro', 'em', 'novembro', '.', 'Esse', 'pacto', 'ru', '##iu', 'em', 'razão', 'de', 'uma', 'crise', 'de', 'orçamento', ',', 'que', 'provocou', 'as', 'eleições', 'de', 'março', '.', '<', 'b', '##r', '>', '<', 'b', '##r', '>', \"'\", 'Eles', 'têm', 'de', 'coorden', '##ar', 'juntos', 'uma', 'guerra', ',', 'quando', 'não', 'conseguem', 'nem', 'manter', 'um', 'acordo', 'de', 'coalizão', \"'\", ',', 'disse', 'Da', '##hl', '##ia', 'Sche', '##ind', '##lin', ',', 'analis', '##ta', 'de', 'Tel', '-', 'Av', '##iv', '.', 'Ela', 'acrescentou', ',', 'porém', ',', 'que', \"'\", 'quanto', 'mais', 'próximos', 'da', 'guerra', 'total', ',', 'mais', 'fácil', 'fica', 'argumenta', '##r', 'que', 'não', 'é', 'possível', 'mudar', 'o', 'governo', \"'\", '.', '[SEP]']\n"
     ]
    }
   ],
   "source": [
    "wordpiece_tokens = tokenizer.convert_ids_to_tokens(tokenizer(results[index]['_source']['texto'], padding=True)['input_ids'])\n",
    "print('Total WordPiece tokens:', len(wordpiece_tokens))\n",
    "print(wordpiece_tokens)"
   ]
  },
  {
   "cell_type": "code",
   "execution_count": 12,
   "metadata": {
    "scrolled": false
   },
   "outputs": [
    {
     "name": "stdout",
     "output_type": "stream",
     "text": [
      "LEGENDA DAS CORES:\n",
      "   \u001b[94mPESSOA\u001b[0m\n",
      "   \u001b[93mLOCAL\u001b[0m\n",
      "   \u001b[36mORGANIZAÇÃO PRIVADA\u001b[0m\n",
      "   \u001b[35mENTIDADE PÚBLICA\u001b[0m\n",
      "\n",
      "\n",
      "Quando\u001b[0m o\u001b[0m conflito\u001b[0m se\u001b[0m intensifica\u001b[0m ,\u001b[0m a\u001b[0m luta\u001b[0m política\u001b[0m em\u001b[0m \u001b[93mIsrael\u001b[0m arrefece\u001b[0m .\u001b[0m Quando\u001b[0m o\u001b[0m país\u001b[0m fica\u001b[0m à\u001b[0m beira\u001b[0m da\u001b[0m guerra\u001b[0m ,\u001b[0m a\u001b[0m oposição\u001b[0m se\u001b[0m alinha\u001b[0m ao\u001b[0m governo\u001b[0m .\u001b[0m Mas\u001b[0m não\u001b[0m desta\u001b[0m vez\u001b[0m .\u001b[0m Enquanto\u001b[0m o\u001b[0m confronto\u001b[0m em\u001b[0m \u001b[93mGaza\u001b[0m provoca\u001b[0m destruição\u001b[0m e\u001b[0m a\u001b[0m violência\u001b[0m sectária\u001b[0m entre\u001b[0m árabes\u001b[0m e\u001b[0m judeus\u001b[0m se\u001b[0m intensifica\u001b[0m ,\u001b[0m um\u001b[0m dos\u001b[0m opositores\u001b[0m de\u001b[0m \u001b[94mBinyamin\u001b[0m \u001b[94mNetanyahu\u001b[0m culpa\u001b[0m o\u001b[0m primeiro\u001b[0m -\u001b[0m ministro\u001b[0m pela\u001b[0m sensação\u001b[0m de\u001b[0m caos\u001b[0m e\u001b[0m trabalha\u001b[0m para\u001b[0m tirá\u001b[0m -\u001b[0m lo\u001b[0m do\u001b[0m cargo\u001b[0m .\u001b[0m <\u001b[0m br\u001b[0m >\u001b[0m <\u001b[0m br\u001b[0m >\u001b[0m \u001b[94mYair\u001b[0m \u001b[94mLapid\u001b[0m disse\u001b[0m que\u001b[0m os\u001b[0m acontecimentos\u001b[0m da\u001b[0m última\u001b[0m semana\u001b[0m '\u001b[0m não\u001b[0m podem\u001b[0m servir\u001b[0m de\u001b[0m desculpa\u001b[0m para\u001b[0m \u001b[94mNetanyahu\u001b[0m se\u001b[0m manter\u001b[0m no\u001b[0m poder\u001b[0m '\u001b[0m .\u001b[0m '\u001b[0m É\u001b[0m por\u001b[0m isso\u001b[0m que\u001b[0m ele\u001b[0m deveria\u001b[0m ser\u001b[0m substituído\u001b[0m o\u001b[0m mais\u001b[0m rapidamente\u001b[0m possível\u001b[0m '\u001b[0m ,\u001b[0m escreveu\u001b[0m \u001b[94mLapid\u001b[0m ,\u001b[0m no\u001b[0m \u001b[36mFacebook\u001b[0m .\u001b[0m <\u001b[0m br\u001b[0m >\u001b[0m <\u001b[0m br\u001b[0m >\u001b[0m A\u001b[0m escalada\u001b[0m da\u001b[0m crise\u001b[0m ocorre\u001b[0m em\u001b[0m um\u001b[0m momento\u001b[0m crucial\u001b[0m para\u001b[0m a\u001b[0m política\u001b[0m israelense\u001b[0m .\u001b[0m Poucos\u001b[0m dias\u001b[0m atrás\u001b[0m ,\u001b[0m \u001b[94mNetanyahu\u001b[0m ,\u001b[0m que\u001b[0m é\u001b[0m julgado\u001b[0m por\u001b[0m corrupção\u001b[0m e\u001b[0m não\u001b[0m conseguiu\u001b[0m formar\u001b[0m governo\u001b[0m após\u001b[0m quatro\u001b[0m eleições\u001b[0m em\u001b[0m dois\u001b[0m anos\u001b[0m ,\u001b[0m parecia\u001b[0m prestes\u001b[0m a\u001b[0m perder\u001b[0m o\u001b[0m cargo\u001b[0m .\u001b[0m \u001b[94mLapid\u001b[0m obteve\u001b[0m a\u001b[0m chance\u001b[0m de\u001b[0m formar\u001b[0m uma\u001b[0m coalizão\u001b[0m .\u001b[0m Seus\u001b[0m parceiros\u001b[0m são\u001b[0m um\u001b[0m discrepante\u001b[0m grupo\u001b[0m de\u001b[0m pequenos\u001b[0m partidos\u001b[0m com\u001b[0m agendas\u001b[0m conflitantes\u001b[0m ,\u001b[0m e\u001b[0m ele\u001b[0m tem\u001b[0m até\u001b[0m 2\u001b[0m de\u001b[0m junho\u001b[0m para\u001b[0m formar\u001b[0m uma\u001b[0m aliança\u001b[0m .\u001b[0m <\u001b[0m br\u001b[0m >\u001b[0m <\u001b[0m br\u001b[0m >\u001b[0m O\u001b[0m derramamento\u001b[0m de\u001b[0m sangue\u001b[0m tanto\u001b[0m facilita\u001b[0m quando\u001b[0m dificulta\u001b[0m o\u001b[0m esforço\u001b[0m de\u001b[0m \u001b[94mLapid\u001b[0m .\u001b[0m Os\u001b[0m críticos\u001b[0m de\u001b[0m \u001b[94mNetanyahu\u001b[0m têm\u001b[0m agora\u001b[0m mais\u001b[0m razões\u001b[0m para\u001b[0m querer\u001b[0m vê\u001b[0m -\u001b[0m lo\u001b[0m partir\u001b[0m .\u001b[0m Mas\u001b[0m ,\u001b[0m ao\u001b[0m mesmo\u001b[0m tempo\u001b[0m ,\u001b[0m afirmam\u001b[0m analistas\u001b[0m ,\u001b[0m a\u001b[0m violência\u001b[0m enfatizou\u001b[0m as\u001b[0m diferenças\u001b[0m entre\u001b[0m os\u001b[0m partidos\u001b[0m de\u001b[0m oposição\u001b[0m .\u001b[0m E\u001b[0m o\u001b[0m impulso\u001b[0m inicial\u001b[0m para\u001b[0m negociar\u001b[0m uma\u001b[0m coalizão\u001b[0m foi\u001b[0m reduzido\u001b[0m pela\u001b[0m violência\u001b[0m .\u001b[0m '\u001b[0m Fica\u001b[0m muito\u001b[0m difícil\u001b[0m negociar\u001b[0m enquanto\u001b[0m foguetes\u001b[0m estão\u001b[0m sendo\u001b[0m disparados\u001b[0m e\u001b[0m o\u001b[0m prazo\u001b[0m para\u001b[0m formar\u001b[0m coalizão\u001b[0m se\u001b[0m aproxima\u001b[0m '\u001b[0m ,\u001b[0m afirmou\u001b[0m \u001b[94mReuven\u001b[0m \u001b[94mHazan\u001b[0m ,\u001b[0m professor\u001b[0m de\u001b[0m ciência\u001b[0m política\u001b[0m da\u001b[0m \u001b[35mUniversidade\u001b[0m \u001b[35mHebraica\u001b[0m \u001b[35mde\u001b[0m \u001b[35mJerusalém\u001b[0m .\u001b[0m '\u001b[0m Negociações\u001b[0m que\u001b[0m já\u001b[0m seriam\u001b[0m complicadas\u001b[0m ficaram\u001b[0m ainda\u001b[0m mais\u001b[0m complicadas\u001b[0m ,\u001b[0m o\u001b[0m que\u001b[0m favorece\u001b[0m \u001b[94mNetanyahu\u001b[0m .\u001b[0m '\u001b[0m <\u001b[0m br\u001b[0m >\u001b[0m <\u001b[0m br\u001b[0m >\u001b[0m Um\u001b[0m dos\u001b[0m elementos\u001b[0m -\u001b[0m chave\u001b[0m para\u001b[0m uma\u001b[0m coalizão\u001b[0m anti\u001b[0m -\u001b[0m \u001b[94mNetanyahu\u001b[0m está\u001b[0m nas\u001b[0m mãos\u001b[0m de\u001b[0m \u001b[94mMansour\u001b[0m \u001b[94mAbbas\u001b[0m ,\u001b[0m líder\u001b[0m de\u001b[0m um\u001b[0m pequeno\u001b[0m partido\u001b[0m árabe\u001b[0m conhecido\u001b[0m como\u001b[0m \u001b[94mRa\u001b[0m '\u001b[0m am\u001b[0m .\u001b[0m Os\u001b[0m principais\u001b[0m partidos\u001b[0m que\u001b[0m governaram\u001b[0m o\u001b[0m país\u001b[0m sempre\u001b[0m evitaram\u001b[0m depender\u001b[0m de\u001b[0m votos\u001b[0m árabes\u001b[0m no\u001b[0m Parlamento\u001b[0m ,\u001b[0m particularmente\u001b[0m em\u001b[0m razão\u001b[0m do\u001b[0m foco\u001b[0m nas\u001b[0m questões\u001b[0m de\u001b[0m segurança\u001b[0m .\u001b[0m E\u001b[0m legisladores\u001b[0m árabes\u001b[0m nunca\u001b[0m quiseram\u001b[0m participar\u001b[0m de\u001b[0m governos\u001b[0m e\u001b[0m ter\u001b[0m de\u001b[0m compartilhar\u001b[0m responsabilidade\u001b[0m pelas\u001b[0m ações\u001b[0m militares\u001b[0m de\u001b[0m \u001b[93mIsrael\u001b[0m .\u001b[0m <\u001b[0m br\u001b[0m >\u001b[0m <\u001b[0m br\u001b[0m >\u001b[0m \u001b[94mAbbas\u001b[0m planejava\u001b[0m mudar\u001b[0m isso\u001b[0m .\u001b[0m Após\u001b[0m negociações\u001b[0m com\u001b[0m \u001b[94mNetanyahu\u001b[0m \n",
      "\n",
      "fracassarem\u001b[0m ,\u001b[0m ele\u001b[0m se\u001b[0m inclinou\u001b[0m para\u001b[0m uma\u001b[0m cooperação\u001b[0m com\u001b[0m \u001b[94mLapid\u001b[0m .\u001b[0m Mas\u001b[0m ,\u001b[0m quando\u001b[0m as\u001b[0m tensões\u001b[0m religiosas\u001b[0m e\u001b[0m nacionalistas\u001b[0m explodiram\u001b[0m ,\u001b[0m ele\u001b[0m suspendeu\u001b[0m as\u001b[0m negociações\u001b[0m .\u001b[0m Muitos\u001b[0m analistas\u001b[0m acreditam\u001b[0m que\u001b[0m a\u001b[0m escalada\u001b[0m de\u001b[0m violência\u001b[0m cria\u001b[0m novos\u001b[0m obstáculos\u001b[0m para\u001b[0m o\u001b[0m envolvimento\u001b[0m de\u001b[0m \u001b[94mAbbas\u001b[0m na\u001b[0m coalizão\u001b[0m .\u001b[0m O\u001b[0m apoio\u001b[0m dele\u001b[0m a\u001b[0m um\u001b[0m governo\u001b[0m que\u001b[0m inclui\u001b[0m israelenses\u001b[0m de\u001b[0m direita\u001b[0m seria\u001b[0m difícil\u001b[0m de\u001b[0m engolir\u001b[0m para\u001b[0m sua\u001b[0m base\u001b[0m eleitoral\u001b[0m .\u001b[0m '\u001b[0m Se\u001b[0m as\u001b[0m ideologias\u001b[0m opostas\u001b[0m já\u001b[0m deixavam\u001b[0m muitos\u001b[0m com\u001b[0m um\u001b[0m pé\u001b[0m atrás\u001b[0m nas\u001b[0m negociações\u001b[0m ,\u001b[0m agora\u001b[0m eles\u001b[0m estão\u001b[0m com\u001b[0m os\u001b[0m dois\u001b[0m pés\u001b[0m atrás\u001b[0m '\u001b[0m ,\u001b[0m afirmou\u001b[0m \u001b[94mHazan\u001b[0m .\u001b[0m <\u001b[0m br\u001b[0m >\u001b[0m <\u001b[0m br\u001b[0m >\u001b[0m A\u001b[0m crise\u001b[0m pode\u001b[0m ajudar\u001b[0m \u001b[94mNetanyahu\u001b[0m a\u001b[0m conquistar\u001b[0m o\u001b[0m apoio\u001b[0m de\u001b[0m opositores\u001b[0m que\u001b[0m prometeram\u001b[0m não\u001b[0m integrar\u001b[0m um\u001b[0m governo\u001b[0m liderado\u001b[0m por\u001b[0m ele\u001b[0m ,\u001b[0m afirmou\u001b[0m \u001b[94mMitchell\u001b[0m \u001b[94mBarak\u001b[0m ,\u001b[0m analista\u001b[0m com\u001b[0m base\u001b[0m em\u001b[0m \u001b[93mJerusalém\u001b[0m .\u001b[0m '\u001b[0m \u001b[94mNetanyahu\u001b[0m está\u001b[0m exatamente\u001b[0m onde\u001b[0m quer\u001b[0m estar\u001b[0m ,\u001b[0m no\u001b[0m meio\u001b[0m de\u001b[0m uma\u001b[0m grande\u001b[0m crise\u001b[0m que\u001b[0m faz\u001b[0m as\u001b[0m pessoas\u001b[0m não\u001b[0m quererem\u001b[0m mudar\u001b[0m o\u001b[0m premiê\u001b[0m nem\u001b[0m o\u001b[0m ministro\u001b[0m da\u001b[0m Defesa\u001b[0m '\u001b[0m ,\u001b[0m afirmou\u001b[0m \u001b[94mBarak\u001b[0m .\u001b[0m '\u001b[0m Partido\u001b[0m e\u001b[0m políticos\u001b[0m não\u001b[0m querem\u001b[0m ser\u001b[0m cobrados\u001b[0m por\u001b[0m nenhuma\u001b[0m promessa\u001b[0m de\u001b[0m campanha\u001b[0m em\u001b[0m razão\u001b[0m dessa\u001b[0m situação\u001b[0m .\u001b[0m '\u001b[0m <\u001b[0m br\u001b[0m >\u001b[0m <\u001b[0m br\u001b[0m >\u001b[0m Um\u001b[0m dos\u001b[0m principais\u001b[0m rivais\u001b[0m do\u001b[0m premiê\u001b[0m ,\u001b[0m \u001b[94mBenny\u001b[0m \u001b[94mGantz\u001b[0m ,\u001b[0m ministro\u001b[0m da\u001b[0m Defesa\u001b[0m ,\u001b[0m supervisiona\u001b[0m a\u001b[0m campanha\u001b[0m militar\u001b[0m em\u001b[0m \u001b[93mGaza\u001b[0m em\u001b[0m coordenação\u001b[0m com\u001b[0m \u001b[94mNetanyahu\u001b[0m .\u001b[0m Alguns\u001b[0m analistas\u001b[0m especulam\u001b[0m que\u001b[0m essa\u001b[0m crise\u001b[0m pode\u001b[0m ajudá\u001b[0m -\u001b[0m lo\u001b[0m a\u001b[0m persuadir\u001b[0m \u001b[94mGantz\u001b[0m a\u001b[0m ficar\u001b[0m do\u001b[0m seu\u001b[0m lado\u001b[0m e\u001b[0m mantê\u001b[0m -\u001b[0m lo\u001b[0m no\u001b[0m poder\u001b[0m .\u001b[0m Sob\u001b[0m o\u001b[0m acordo\u001b[0m de\u001b[0m coalizão\u001b[0m que\u001b[0m ambos\u001b[0m alcançaram\u001b[0m ,\u001b[0m no\u001b[0m ano\u001b[0m passado\u001b[0m ,\u001b[0m \u001b[94mGantz\u001b[0m assumiria\u001b[0m como\u001b[0m primeiro\u001b[0m -\u001b[0m ministro\u001b[0m em\u001b[0m novembro\u001b[0m .\u001b[0m Esse\u001b[0m pacto\u001b[0m ruiu\u001b[0m em\u001b[0m razão\u001b[0m de\u001b[0m uma\u001b[0m crise\u001b[0m de\u001b[0m orçamento\u001b[0m ,\u001b[0m que\u001b[0m provocou\u001b[0m as\u001b[0m eleições\u001b[0m de\u001b[0m março\u001b[0m .\u001b[0m <\u001b[0m br\u001b[0m >\u001b[0m <\u001b[0m br\u001b[0m >\u001b[0m '\u001b[0m Eles\u001b[0m têm\u001b[0m de\u001b[0m coordenar\u001b[0m juntos\u001b[0m uma\u001b[0m guerra\u001b[0m ,\u001b[0m quando\u001b[0m não\u001b[0m conseguem\u001b[0m nem\u001b[0m manter\u001b[0m um\u001b[0m acordo\u001b[0m de\u001b[0m coalizão\u001b[0m '\u001b[0m ,\u001b[0m disse\u001b[0m \u001b[94mDahlia\u001b[0m \u001b[94mScheindlin\u001b[0m ,\u001b[0m analista\u001b[0m de\u001b[0m \u001b[93mTel\u001b[0m \u001b[93m-\u001b[0m \u001b[93mAviv\u001b[0m .\u001b[0m Ela\u001b[0m acrescentou\u001b[0m ,\u001b[0m porém\u001b[0m ,\u001b[0m que\u001b[0m '\u001b[0m quanto\u001b[0m mais\u001b[0m próximos\u001b[0m da\u001b[0m guerra\u001b[0m total\u001b[0m ,\u001b[0m mais\u001b[0m fácil\u001b[0m fica\u001b[0m argumentar\u001b[0m que\u001b[0m não\u001b[0m é\u001b[0m possível\u001b[0m mudar\u001b[0m o\u001b[0m governo\u001b[0m '\u001b[0m .\u001b[0m "
     ]
    }
   ],
   "source": [
    "# corrigir os tamanhos, pois está quebrando palavras no meio e não separando tokens\n",
    "max_size = 512 - tokenizer.num_special_tokens_to_add()\n",
    "text_index_begin = 0\n",
    "text_index_limit = max_size\n",
    "print_legenda()\n",
    "\n",
    "for result in results[index:index+1]:\n",
    "    all_tokens = tokenizer.convert_ids_to_tokens(tokenizer(result['_source']['texto'], padding=True)['input_ids'], skip_special_tokens=True)\n",
    "    while all_tokens[text_index_begin:text_index_limit]:\n",
    "        found_subword = all_tokens[text_index_limit-1][:2] == '##'\n",
    "        while all_tokens[text_index_limit-1][:2] == '##':\n",
    "            text_index_limit -= 1\n",
    "\n",
    "        if found_subword: #Remove the first subword with no ## at the beginning\n",
    "            text_index_limit -= 1\n",
    "        annotated_text = predict(tokenizer.convert_tokens_to_string(all_tokens[text_index_begin:text_index_limit]))\n",
    "        for item in annotated_text:\n",
    "            print(item[0], end=' ')\n",
    "            \n",
    "        text_index_begin = min(text_index_limit, len(all_tokens))\n",
    "        text_index_limit = min(text_index_limit+max_size, len(all_tokens))\n",
    "\n",
    "# for trecho in \n",
    "# text = result['_source']['texto'][:512]\n",
    "# annotated_text = predict(text)\n",
    "# for item in annotated_text:\n",
    "#     print(item[0], end=' ')\n",
    "# for result in results:\n",
    "#     pass"
   ]
  }
 ],
 "metadata": {
  "kernelspec": {
   "display_name": "ner-noticias-mapa",
   "language": "python",
   "name": "ner-noticias-mapa"
  },
  "language_info": {
   "codemirror_mode": {
    "name": "ipython",
    "version": 3
   },
   "file_extension": ".py",
   "mimetype": "text/x-python",
   "name": "python",
   "nbconvert_exporter": "python",
   "pygments_lexer": "ipython3",
   "version": "3.8.8"
  }
 },
 "nbformat": 4,
 "nbformat_minor": 5
}
