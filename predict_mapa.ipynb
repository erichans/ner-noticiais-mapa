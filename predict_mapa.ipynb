{
 "cells": [
  {
   "cell_type": "code",
   "execution_count": 1,
   "id": "37629768",
   "metadata": {},
   "outputs": [],
   "source": [
    "import requests\n",
    "from getpass import getpass\n",
    "import json"
   ]
  },
  {
   "cell_type": "code",
   "execution_count": 2,
   "id": "4533a2a1",
   "metadata": {},
   "outputs": [
    {
     "name": "stdout",
     "output_type": "stream",
     "text": [
      "Digite sua senha do ElasticSearch········\n"
     ]
    }
   ],
   "source": [
    "session = requests.Session()\n",
    "session.auth = ('admin', getpass(prompt=\"Digite sua senha do ElasticSearch\"))"
   ]
  },
  {
   "cell_type": "code",
   "execution_count": 240,
   "id": "b3dfd82f",
   "metadata": {},
   "outputs": [],
   "source": [
    "def search(uri):\n",
    "    HEADERS = {\n",
    "        'Content-Type': 'application/json'\n",
    "    }\n",
    "    \n",
    "    query = '''\n",
    "    {\n",
    "      \"size\": 100, \n",
    "      \"_source\": [\"texto\", \"data_publicacao\"], \n",
    "      \"sort\": [\n",
    "       {\n",
    "         \"data_publicacao\": {\n",
    "           \"order\": \"desc\"\n",
    "         }\n",
    "       }\n",
    "     ] \n",
    "    }\n",
    "    '''\n",
    "    \n",
    "    \n",
    "    response = session.get(url=f'{uri}/mapa-fatos/_search', headers=HEADERS, data=query)\n",
    "    assert response.status_code == 200\n",
    "    \n",
    "    return json.loads(response.text)['hits']['hits']"
   ]
  },
  {
   "cell_type": "code",
   "execution_count": 241,
   "id": "730a799b",
   "metadata": {
    "scrolled": true
   },
   "outputs": [
    {
     "name": "stdout",
     "output_type": "stream",
     "text": [
      "Em entrevista à Rádio Eldorado, o diretor do Instituto Butantan, Dimas Covas, afirmou que a China deve responder até esta sexta-feira, 14, se enviará a matéria-prima contratada para permitir a retomada da produção da Coronavac no Brasil. Na quarta-feira, 12, o governo paulista se reuniu com autoridades chinesas para alinhar o cronograma. A logística de entrega do IFA está paralisada desde abril, após novos ataques do governo Bolsonaro ao país.  <br>    <br>  O presidente do Butantan afirmou que o último lote de vacinas será entregue nesta sexta-feira: 'São insumos que já deveriam estar aqui em solo brasileiro, por que nesse momento não temos matéria-prima para continuar a produção'.  <br>    <br>  'Nesse momento, não temos autorização do governo da China para importar as vacinas da China. Estamos com intensas negociações com a embaixada aqui no Brasil e com o governo da China através da embaixada brasileira em Pequim.'  <br>    <br>  Segundo Dimas Covas, os papéis que autorizam a importação ainda não foram assinados, mas 'o embaixador chinês prometeu resposta ao governador Dória ainda nessa semana'.  <br>    <br>  Lote  <br>    <br>  Na quarta-feira, 12, o Instituto Butantan entregou mais um milhão de doses da coronavac, vacina contra a covid-19, ao Programa Nacional de Imunizações (PNI) do Ministério da Saúde. Com isso, a primeira etapa do contrato entre o governo de São Paulo e o governo federal está concluída. Ao todo, foram entregues 46,1 milhões de doses da vacina desde janeiro.  <br>    <br>  Outro contrato prevê a entrega de 54 milhões de doses à campanha nacional de imunização até o final de setembro. Para fabricá-las, o Butantan depende da chegada de Insumo Farmacêutico Ativo (IFA) produzido na China. O governador João Doria falou que o estoque de insumos deve acabar nesta sexta-feira, 14, e não há previsão para a chegada de uma nova remessa.  <br>    <br>  Segundo Doria, 10 mil litros de IFA, suficientes para produzir 18 milhões de doses de coronavac, estão aguardando liberação do governo chinês para serem enviados ao Brasil. O que impede o envio, disse, são 'entraves diplomáticos' causados pelo presidente Jair Bolsonaro e sua equipe. Nas últimas semanas, o governo federal fez uma série de críticas à China e às vacinas feitas no país.  <br>    <br>  Ontem, o governador informou sobre a reunião do diretor do Butantan, Dimas Covas, com o embaixador do Brasil em Pequim para tratar do assunto. Doria também disse que o ministro das Relações Exteriores, Carlos França, e o embaixador da China no Brasil, Yang Wanming, ajudariam nas negociações.  <br>    <br>  Se o resultado do encontro for positivo, a expectativa é que a carga chegue em São Paulo nos próximos dias. Senão, a produção da Coronavac será paralisada por falta de insumos e a entrega das doses ao governo federal poderá sofrer atrasos. A última remessa de IFA chegou no País há 17 dias.\n",
      "--------------------------------------------------------------------------------\n",
      "O sorteio do concurso 5564 da Quina de hoje pode pagar um prêmio R$ 1,5 milhão na sexta-feira, 14 de maio de 2021, para quem acertar as cinco dezenas da aposta. O resultado Quina 5564 será anunciado pelas Loterias Caixa a partir das 20 horas, conforme o horário de Brasília.  <br>    <br>  ADVERTISING  <br>    <br>  00:00  <br>    <br>  /  <br>    <br>  ??:??  <br>    <br>  Skip  <br>    <br>  Ads by  <br>    <br>  Ã-  <br>    <br>  Ã-  <br>    <br>  As apostas na Quina podem ser feitas até as 19h do dia do sorteio em lotéricas ou pela internet. O preço da aposta com 5 números é de R$ 2,00. Quanto mais números marcar, maior o preço da aposta e maiores as chances de ganhar.  <br>    <br>  Resultado da Quina de hoje - concurso 5564  <br>    <br>  Confira os resultados da Quina da semana  <br>    <br>  Outros resultados da Quina  <br>    <br>  Recebimento de prêmios  <br>    <br>  Então, é possível receber o prêmio em qualquer casa lotérica credenciada ou nas agências da Caixa. Portanto, caso o prêmio líquido seja superior a R$ 1.332,78 (bruto de R$ 1.903,98) o pagamento pode ser realizado somente nas agências da Caixa. Valores iguais ou acima de R$ 10.000,00 são pagos após 2 dias de sua apresentação na agência da Caixa.  <br>    <br>  Acumulação  <br>    <br>  Não existindo aposta premiada, em concurso regular, na 1ª, 2ª, 3ª ou 4º faixa(s), o(s) valor(es) acumula(m) para o concurso seguinte, na 1ª faixa de premiação. Então, no concurso especial do dia 24 de junho de cada ano, a regra de acumulação segue o seguinte critério:  <br>    <br>  Não existindo aposta premiada na 1ª faixa (quina), este valor será somado ao valor da 2ª faixa e rateado entre as apostas que contiverem 4 prognósticos certos (quadra);  <br>    <br>  Se não houver apostas premiadas na 1ª faixa (quina) e na 2ª faixa (quadra), os valores destinados a prêmios para estas faixas serão somados ao valor da 3ª faixa, e rateados entre as apostas que contiverem 3 prognósticos certos (terno);  <br>    <br>  Não existindo apostas premiadas na 1ª faixa (quina), na 2ª faixa (quadra) e na 3ª faixa (terno) os valores destinados a prêmios para estas faixas serão somados ao valor da 4ª faixa, e rateados entre as apostas que contiverem 2 prognósticos certos (duque);  <br>    <br>  Não existindo apostas premiadas em quaisquer faixas de premiação, os valores acumulam para o concurso seguinte, na 1ª faixa de premiação.  <br>    <br>  No entanto, os prêmios prescrevem 90 dias após a data do sorteio. Sendo assim, após esse prazo, os valores vão ao Tesouro Nacional para aplicação no FIES - Fundo de Financiamento ao Estudante do Ensino Superior.  <br>    <br>  Leia também:  <br>    <br>  + 8 Vencedores da loteria que tiveram muito azar  <br>    <br>  + Conheça 5 pessoas que ganharam na loteria varias vezes  <br>    <br>  + Fraude na loteria: Conheça 4 histórias inacreditáveis  <br>    <br>  + Ganhadores da loteria que ficaram famosos pela extravagância\n",
      "--------------------------------------------------------------------------------\n",
      "A Procuradoria-Geral da Fazenda Nacional (PGFN) comemorou a decisão do Supremo Tribunal Federal (STF) de limitar os efeitos retroativos da decisão que retira o ICMS da base de cálculo do PIS/Cofins.  <br>    <br>  O órgão, porém, não detalhou o impacto da decisão do STF de que o correto é descontar o ICMS destacado na nota fiscal, que tem valor maior que o ICMS efetivamente pago pelo contribuinte. Na prática, esse entendimento pode sangrar os cofres da União. Como mostrou o Broadcast, uma fonte da equipe econômica disse que essa medida pode dobrar o impacto da decisão.  <br>    <br>  Para a PGFN, a modulação dos efeitos da decisão para 15 de março de 2017 em diante, ressalvadas as ações judiciais e administrativas protocoladas antes dessa data, resguarda os valores recolhidos aos cofres públicos com a inclusão do ICMS na base de cálculo do PIS e da Cofins até o julgamento de março de 2017.  <br>    <br>  'O encerramento desse julgamento resolve, definitivamente, a principal controvérsia tributária do País, sendo inequívoco que o parcial acolhimento dos embargos opostos pela Fazenda Nacional reduzirá o gigantesco impacto que o acórdão, sem essa ressalva, teria sobre as finanças públicas', afirmou.\n",
      "--------------------------------------------------------------------------------\n",
      "Depois de mais de 20 anos, o Itaú Unibanco muda, a partir de hoje, a assinatura das suas campanhas publicitárias.  <br>    <br>  Sai o 'Feito para Você' e entra o 'Feito com Você'.  <br>    <br>  ?'semigo', não.  <br>    <br>  Essa mudança vem na mesma semana em que Milton Maluhy Filho, novo presidente do Itaú Unibanco, escreveu carta distribuída aos 90 mil funcionários da instituição financeira.  <br>    <br>  Nela, o executivo destacou a importância da transformação cultural e digital em meio a uma conjuntura 'altamente desafiadora' para o negócio bancário. 'Precisamos ter uma real obsessão pelas demandas e necessidades dos clientes. Eles são a razão de ser do trabalho de todos nós', enfatizou.  <br>    <br>  Esquentando  <br>    <br>  John Kerry promoveu, ontem, um literal downgrade da atual política externa do Brasil. A autoridade do governo Biden para assuntos ligados ao clima disse, em audiência no Senado americano, que no País 'infelizmente o 'regime Bolsonaro' reverteu algumas proteções ambientais'.  <br>    <br>  No ver de Rubens Barbosa, ex-embaixador dos EUA em Washington, 'em linguagem diplomática, isso é o mesmo a equiparar o Brasil a países como a Síria, a Coreia do Norte e a Venezuela'.  <br>    <br>  Esquentando 2  <br>    <br>  E mais: se o projeto que flexibiliza o licenciamento ambiental for aprovado, 'a imagem do Brasil no exterior vai piorar ainda mais', prevê Barbosa.  <br>    <br>  Belchior vive  <br>    <br>  Sandra Pêra está nos finalmentes para lançar em junho um álbum inteiro dedicado a clássicos de Belchior, que a atriz e cantora conheceu ainda nos tempos das Frenéticas. Com direito a convidados de peso como Ney Matogrosso e Zeca Baleiro.  <br>    <br>  O primeiro single do projeto, A Palo Seco, estará disponível a partir do dia 21 nas plataformas digitais.  <br>    <br>  Eterno  <br>    <br>  Cainã Gartner criou 41 réplicas das luvas utilizadas por Ayrton Senna - esculpidas à mão em madeira nativa, apreendida pela Polícia Militar Ambiental. O artista usou também ouro 23 quilates italiano nas peças.  <br>    <br>  Parte da renda das vendas irá para ao Instituto Ayrton Senna.\n",
      "--------------------------------------------------------------------------------\n",
      "O presidente Jair Bolsonaro classificou como 'guerra comercial' as críticas internacionais às queimadas na Amazônia e ao projeto de lei que regulariza a ocupação fundiária, conhecido como o PL da Grilagem.  <br>    <br>  \"Tem certos países da Europa que nos critica o tempo todo porque é uma guerra comercial', afirmou Bolsonaro, nesta quinta-feira (13/05), durante a transmissão semanal ao vivo nas redes sociais.  <br>    <br>  Há duas matérias tratando do assunto tramitando no Congresso, o PL 2633/2020, da Câmara dos Deputados, e o PL 510/2021, no Senado Federal, e, segundo ele, o primeiro deverá avançar mais rapidamente.  <br>    <br>  De acordo com o mandatário, o presidente da Câmara, Arthur Lira (PP-AL) deu sinalização positiva para pautar a matéria. 'Tivemos hoje com o Arthur Lira e ele está na iminência de colocar em votação o projeto que trata do código ambiental. E isso é muito bem vindo para o Brasil', disse Bolsonaro. Ele contou que, nesta sexta-feira (14/05), viaja para o Mato Grosso do Sul onde entregará títulos de propriedade para agricultores.  <br>    <br>  'O Brasil é um dos países que mais preservam no mundo e somos atacados porque há uma guerra em cima das commodities', reforçou.  <br>    <br>  A minimizar as críticas ao desmatamento recorde na Amazônia e as ameaças de boicote às commodites brasileiras feita pelos europeus se o PL da Grilagem for aprovado, o presidente voltou a comparar o Brasil com outros países em termos de reservas ambientais e emissões, para mostrar que o país polui menos do que as economias desenvolvidas.  <br>    <br>  Ao lado do ministro do Desenvolvimento Regional, Rogério Marinho, o presidente disse que o Brasil é responsável por menos de 3% das emissões de gás carbônico no planeta, porque 'metade é de queimadas'. Enquanto isso, segundo eles, a China é responsável por 30%, os Estados Unidos, por 15%, a Índia e a Europa, por 7%.  <br>    <br>  De acordo com o presidente, queimadas são algo comum em países com grandes áreas de florestas, como é o caso do Brasil, porque elas acabam sendo inevitáveis. \"Não adianta ficar com o beiço torto. Vai acontecer', completou.  <br>    <br>  Na madrugada desta quinta-feira, a Câmara aprovou um projeto de lei que muda as regras de licenciamento ambiental que foi criticada por ambientalistas.\n",
      "--------------------------------------------------------------------------------\n"
     ]
    }
   ],
   "source": [
    "results = search(\"http://elastic.producao.rancher.tcu.gov.br\")\n",
    "\n",
    "for result in results[:5]:\n",
    "    print(result['_source']['texto'])\n",
    "    print('-'* 80)\n",
    "# responses_elasticsearch = result['responses']\n",
    "# len(responses_elasticsearch)"
   ]
  },
  {
   "cell_type": "code",
   "execution_count": 5,
   "id": "97c2f3f4",
   "metadata": {},
   "outputs": [],
   "source": [
    "from transformers import BertTokenizerFast, BertConfig, \\\n",
    "    Trainer, TrainingArguments, EvalPrediction, IntervalStrategy\n",
    "\n",
    "import numpy as np\n",
    "from seqeval.metrics import accuracy_score, precision_score, recall_score, f1_score, \\\n",
    "    classification_report, performance_measure\n",
    "from typing import Tuple, List, Dict\n",
    "\n",
    "from torch import nn\n",
    "from ner.news_dataset import NewsDataset\n",
    "\n",
    "from sklearn_crfsuite.metrics import flat_classification_report\n",
    "\n",
    "import torch\n",
    "from sklearn.model_selection import train_test_split\n",
    "from ner.process_dataset import ProcessDataset\n",
    "from ner.model import BertNER\n",
    "from transformers import BertTokenizerFast\n",
    "import transformers\n",
    "\n",
    "import logging\n",
    "import pickle\n",
    "from pathlib import Path\n",
    "\n",
    "# from transformers import pipeline"
   ]
  },
  {
   "cell_type": "code",
   "execution_count": 6,
   "id": "428adac8",
   "metadata": {},
   "outputs": [],
   "source": [
    "unique_tags = sorted(['B-LOC', 'I-LOC', 'B-PUB', 'I-PUB', 'B-PESSOA', 'I-PESSOA', 'B-ORG', 'I-ORG', 'O'])\n",
    "\n",
    "tag2id = {tag: id_gerado for id_gerado, tag in enumerate(unique_tags)}\n",
    "id2tag = {id_geraddo: tag for tag, id_geraddo in tag2id.items()}\n",
    "\n",
    "tokenizer = BertTokenizerFast.from_pretrained('neuralmind/bert-base-portuguese-cased', model_max_length=512,\n",
    "                                              do_lower_case=False, cache_dir='D:/cache')\n",
    "\n",
    "model = BertNER.from_pretrained('models/30_epochs_iobe_consistency',\n",
    "                                cache_dir='D:/cache', id2label=id2tag, label2id=tag2id)"
   ]
  },
  {
   "cell_type": "code",
   "execution_count": 236,
   "id": "8d0cfecc",
   "metadata": {},
   "outputs": [
    {
     "name": "stdout",
     "output_type": "stream",
     "text": [
      "LEGENDA DAS CORES:\n",
      "   \u001b[94mPESSOA\u001b[0m\n",
      "   \u001b[93mLOCAL\u001b[0m\n",
      "   \u001b[36mORGANIZAÇÃO PRIVADA\u001b[0m\n",
      "   \u001b[35mENTIDADE PÚBLICA\u001b[0m\n"
     ]
    }
   ],
   "source": [
    "bcolors = {\n",
    "    \"PESSOA\": '\\033[94m',\n",
    "    #\"TEMPO\": '\\033[92m',\n",
    "    \"LOC\": '\\033[93m',\n",
    "    \"ORG\": '\\033[36m',\n",
    "    \"PUB\": '\\033[35m',\n",
    "    #\"LEGISLACAO\": '\\033[36m',\n",
    "    \"ENDC\": '\\033[0m',\n",
    "    \"O\": \"\"\n",
    "}\n",
    "\n",
    "def print_legenda():\n",
    "    print('LEGENDA DAS CORES:')\n",
    "    print(' ' * 2, bcolors['PESSOA'] + 'PESSOA' + bcolors['ENDC'])\n",
    "    print(' ' * 2, bcolors['LOC'] + 'LOCAL' + bcolors['ENDC'])\n",
    "    print(' ' * 2, bcolors['ORG'] + 'ORGANIZAÇÃO PRIVADA' + bcolors['ENDC'])\n",
    "    print(' ' * 2, bcolors['PUB'] + 'ENTIDADE PÚBLICA' + bcolors['ENDC'])\n",
    "print_legenda()    "
   ]
  },
  {
   "cell_type": "code",
   "execution_count": 373,
   "id": "c1e0cb56",
   "metadata": {},
   "outputs": [],
   "source": [
    "special_tokens = [tokenizer.unk_token, tokenizer.sep_token, tokenizer.pad_token, tokenizer.cls_token, tokenizer.mask_token]\n",
    "\n",
    "def mask_output_iob2(batch_predictions: np.ndarray, j: int, batch_predictions_tags: List):\n",
    "    # First token: possible predictions: O, B-*. Others = -100 or\n",
    "    # if last prediction was E-XXX, then only accepts B-XYZ or O or\n",
    "    # if last prediction was O, then only accepts B-XYZ or O\n",
    "    if len(batch_predictions_tags) == 0 or batch_predictions_tags[-1][:1] == 'O':\n",
    "        batch_predictions[j, [id for id, tag in id2tag.items() if tag[:1] not in ['B', 'O']]] = -100\n",
    "    # if last prediction was B-XXX, then only accepts I-XXX, O or B-XYZ\n",
    "    elif batch_predictions_tags[-1][:1] == 'B':\n",
    "        batch_predictions[j, [id for id, tag in id2tag.items() if tag not in [f'I-{batch_predictions_tags[-1][2:]}',\n",
    "                                                                              'O'] and tag[:1] != 'B']] = -100\n",
    "    # if last prediction was I-XXX, then only accepts I-XXX, B or O\n",
    "    elif batch_predictions_tags[-1][:1] == 'I':\n",
    "        batch_predictions[j, [id for id, tag in id2tag.items() if tag not in [f'I-{batch_predictions_tags[-1][2:]}']\n",
    "                              and tag[:1] not in ['B', 'O']]] = -100\n",
    "\n",
    "    return model.config.id2label[np.argmax(batch_predictions[j])]\n",
    "\n",
    "def decode_preds(tokens, pred_labels, confidences):\n",
    "    result = []\n",
    "    preds_entities = pred_labels.copy()\n",
    "    for index, (token, pred, confidence) in enumerate(zip(tokens, pred_labels, confidences)):\n",
    "        if token in special_tokens:\n",
    "            continue\n",
    "        \n",
    "        if pred[:2] in ['B-', 'I-', 'E-', 'S-']:\n",
    "            preds_entities[index] = pred[2:]\n",
    "        \n",
    "        if token[:2] == '##':\n",
    "            result[-1][0] = result[-1][0].replace(bcolors['ENDC'], token[2:] + bcolors['ENDC'])\n",
    "        else:\n",
    "            result.append([bcolors[preds_entities[index]] + token + bcolors['ENDC'], np.round(torch.max(confidence).item(), 2)])\n",
    "\n",
    "    return result\n",
    "\n",
    "def align_predictions(predictions):\n",
    "    preds = np.argmax(predictions, axis=-1)\n",
    "    seq_len = preds.shape[0]\n",
    "    preds_masked = []\n",
    "\n",
    "    for j in range(seq_len):\n",
    "#             preds_list[i].append(id2tag[np.argmax(predictions[i][j])])\n",
    "        preds_masked.append(mask_output_iob2(predictions, j, preds_masked))\n",
    "            \n",
    "    return preds_masked\n",
    "                \n",
    "\n",
    "def predict(text):\n",
    "    token_indices = tokenizer.encode(text)\n",
    "    tokens_tensor = torch.LongTensor(token_indices).unsqueeze(0)\n",
    "    # print(tokens_tensor)\n",
    "#     print(tokenizer.decode(token_indices))\n",
    "    # model.to('cuda')\n",
    "    with torch.no_grad():\n",
    "        outputs = model(tokens_tensor)\n",
    "    #     print('outputs', outputs)\n",
    "        confidences = nn.Softmax(dim=-1)(outputs.logits).squeeze()\n",
    "#         print(outputs.logits.numpy().squeeze(0).shape)\n",
    "        pred_labels = align_predictions(outputs.logits.numpy().squeeze(0))\n",
    "\n",
    "    # print('predicted_indices', predicted_indices)\n",
    "#     pred_labels = [model.config.id2label[predicted_index.item()] for predicted_index in predicted_indices]\n",
    "    # print(pred_labels)\n",
    "\n",
    "    tokens = tokenizer.convert_ids_to_tokens(token_indices)\n",
    "    assert len(tokens) == len(pred_labels)\n",
    "    print('\\n')\n",
    "    \n",
    "    return decode_preds(tokens, pred_labels, confidences)\n"
   ]
  },
  {
   "cell_type": "code",
   "execution_count": 522,
   "id": "f9ea555d",
   "metadata": {},
   "outputs": [
    {
     "name": "stdout",
     "output_type": "stream",
     "text": [
      "Total word tokens: 715\n",
      "['Quando', 'o', 'conflito', 'se', 'intensifica', ',', 'a', 'luta', 'política', 'em', 'Israel', 'arrefece', '.', 'Quando', 'o', 'país', 'fica', 'à', 'beira', 'da', 'guerra', ',', 'a', 'oposição', 'se', 'alinha', 'ao', 'governo', '.', 'Mas', 'não', 'desta', 'vez', '.', 'Enquanto', 'o', 'confronto', 'em', 'Gaza', 'provoca', 'destruição', 'e', 'a', 'violência', 'sectária', 'entre', 'árabes', 'e', 'judeus', 'se', 'intensifica', ',', 'um', 'dos', 'opositores', 'de', 'Binyamin', 'Netanyahu', 'culpa', 'o', 'primeiro', '-', 'ministro', 'pela', 'sensação', 'de', 'caos', 'e', 'trabalha', 'para', 'tirá', '-', 'lo', 'do', 'cargo', '.', 'br', 'br', 'Yair', 'Lapid', 'disse', 'que', 'os', 'acontecimentos', 'da', 'última', 'semana', \"'não\", 'podem', 'servir', 'de', 'desculpa', 'para', 'Netanyahu', 'se', 'manter', 'no', \"poder'\", '.', \"'É\", 'por', 'isso', 'que', 'ele', 'deveria', 'ser', 'substituído', 'o', 'mais', 'rapidamente', \"possível'\", ',', 'escreveu', 'Lapid', ',', 'no', 'Facebook', '.', 'br', 'br', 'A', 'escalada', 'da', 'crise', 'ocorre', 'em', 'um', 'momento', 'crucial', 'para', 'a', 'política', 'israelense', '.', 'Poucos', 'dias', 'atrás', ',', 'Netanyahu', ',', 'que', 'é', 'julgado', 'por', 'corrupção', 'e', 'não', 'conseguiu', 'formar', 'governo', 'após', 'quatro', 'eleições', 'em', 'dois', 'anos', ',', 'parecia', 'prestes', 'a', 'perder', 'o', 'cargo', '.', 'Lapid', 'obteve', 'a', 'chance', 'de', 'formar', 'uma', 'coalizão', '.', 'Seus', 'parceiros', 'são', 'um', 'discrepante', 'grupo', 'de', 'pequenos', 'partidos', 'com', 'agendas', 'conflitantes', ',', 'e', 'ele', 'tem', 'até', '2', 'de', 'junho', 'para', 'formar', 'uma', 'aliança', '.', 'br', 'br', 'O', 'derramamento', 'de', 'sangue', 'tanto', 'facilita', 'quando', 'dificulta', 'o', 'esforço', 'de', 'Lapid', '.', 'Os', 'críticos', 'de', 'Netanyahu', 'têm', 'agora', 'mais', 'razões', 'para', 'querer', 'vê', '-', 'lo', 'partir', '.', 'Mas', ',', 'ao', 'mesmo', 'tempo', ',', 'afirmam', 'analistas', ',', 'a', 'violência', 'enfatizou', 'as', 'diferenças', 'entre', 'os', 'partidos', 'de', 'oposição', '.', 'E', 'o', 'impulso', 'inicial', 'para', 'negociar', 'uma', 'coalizão', 'foi', 'reduzido', 'pela', 'violência', '.', \"'Fica\", 'muito', 'difícil', 'negociar', 'enquanto', 'foguetes', 'estão', 'sendo', 'disparados', 'e', 'o', 'prazo', 'para', 'formar', 'coalizão', 'se', \"aproxima'\", ',', 'afirmou', 'Reuven', 'Hazan', ',', 'professor', 'de', 'ciência', 'política', 'da', 'Universidade', 'Hebraica', 'de', 'Jerusalém', '.', \"'Negociações\", 'que', 'já', 'seriam', 'complicadas', 'ficaram', 'ainda', 'mais', 'complicadas', ',', 'o', 'que', 'favorece', 'Netanyahu', '.', \"'\", 'br', 'br', 'Um', 'dos', 'elementos', '-', 'chave', 'para', 'uma', 'coalizão', 'anti', '-', 'Netanyahu', 'está', 'nas', 'mãos', 'de', 'Mansour', 'Abbas', ',', 'líder', 'de', 'um', 'pequeno', 'partido', 'árabe', 'conhecido', 'como', \"Ra'am\", '.', 'Os', 'principais', 'partidos', 'que', 'governaram', 'o', 'país', 'sempre', 'evitaram', 'depender', 'de', 'votos', 'árabes', 'no', 'Parlamento', ',', 'particularmente', 'em', 'razão', 'do', 'foco', 'nas', 'questões', 'de', 'segurança', '.', 'E', 'legisladores', 'árabes', 'nunca', 'quiseram', 'participar', 'de', 'governos', 'e', 'ter', 'de', 'compartilhar', 'responsabilidade', 'pelas', 'ações', 'militares', 'de', 'Israel', '.', 'br', 'br', 'Abbas', 'planejava', 'mudar', 'isso', '.', 'Após', 'negociações', 'com', 'Netanyahu', 'fracassarem', ',', 'ele', 'se', 'inclinou', 'para', 'uma', 'cooperação', 'com', 'Lapid', '.', 'Mas', ',', 'quando', 'as', 'tensões', 'religiosas', 'e', 'nacionalistas', 'explodiram', ',', 'ele', 'suspendeu', 'as', 'negociações', '.', 'Muitos', 'analistas', 'acreditam', 'que', 'a', 'escalada', 'de', 'violência', 'cria', 'novos', 'obstáculos', 'para', 'o', 'envolvimento', 'de', 'Abbas', 'na', 'coalizão', '.', 'O', 'apoio', 'dele', 'a', 'um', 'governo', 'que', 'inclui', 'israelenses', 'de', 'direita', 'seria', 'difícil', 'de', 'engolir', 'para', 'sua', 'base', 'eleitoral', '.', \"'Se\", 'as', 'ideologias', 'opostas', 'já', 'deixavam', 'muitos', 'com', 'um', 'pé', 'atrás', 'nas', 'negociações', ',', 'agora', 'eles', 'estão', 'com', 'os', 'dois', 'pés', \"atrás'\", ',', 'afirmou', 'Hazan', '.', 'br', 'br', 'A', 'crise', 'pode', 'ajudar', 'Netanyahu', 'a', 'conquistar', 'o', 'apoio', 'de', 'opositores', 'que', 'prometeram', 'não', 'integrar', 'um', 'governo', 'liderado', 'por', 'ele', ',', 'afirmou', 'Mitchell', 'Barak', ',', 'analista', 'com', 'base', 'em', 'Jerusalém', '.', \"'Netanyahu\", 'está', 'exatamente', 'onde', 'quer', 'estar', ',', 'no', 'meio', 'de', 'uma', 'grande', 'crise', 'que', 'faz', 'as', 'pessoas', 'não', 'quererem', 'mudar', 'o', 'premiê', 'nem', 'o', 'ministro', 'da', \"Defesa'\", ',', 'afirmou', 'Barak', '.', \"'Partido\", 'e', 'políticos', 'não', 'querem', 'ser', 'cobrados', 'por', 'nenhuma', 'promessa', 'de', 'campanha', 'em', 'razão', 'dessa', 'situação', '.', \"'\", 'br', 'br', 'Um', 'dos', 'principais', 'rivais', 'do', 'premiê', ',', 'Benny', 'Gantz', ',', 'ministro', 'da', 'Defesa', ',', 'supervisiona', 'a', 'campanha', 'militar', 'em', 'Gaza', 'em', 'coordenação', 'com', 'Netanyahu', '.', 'Alguns', 'analistas', 'especulam', 'que', 'essa', 'crise', 'pode', 'ajudá', '-', 'lo', 'a', 'persuadir', 'Gantz', 'a', 'ficar', 'do', 'seu', 'lado', 'e', 'mantê', '-', 'lo', 'no', 'poder', '.', 'Sob', 'o', 'acordo', 'de', 'coalizão', 'que', 'ambos', 'alcançaram', ',', 'no', 'ano', 'passado', ',', 'Gantz', 'assumiria', 'como', 'primeiro', '-', 'ministro', 'em', 'novembro', '.', 'Esse', 'pacto', 'ruiu', 'em', 'razão', 'de', 'uma', 'crise', 'de', 'orçamento', ',', 'que', 'provocou', 'as', 'eleições', 'de', 'março', '.', 'br', 'br', \"'Eles\", 'têm', 'de', 'coordenar', 'juntos', 'uma', 'guerra', ',', 'quando', 'não', 'conseguem', 'nem', 'manter', 'um', 'acordo', 'de', \"coalizão'\", ',', 'disse', 'Dahlia', 'Scheindlin', ',', 'analista', 'de', 'Tel', '-', 'Aviv', '.', 'Ela', 'acrescentou', ',', 'porém', ',', 'que', \"'quanto\", 'mais', 'próximos', 'da', 'guerra', 'total', ',', 'mais', 'fácil', 'fica', 'argumentar', 'que', 'não', 'é', 'possível', 'mudar', 'o', \"governo'\", '.']\n"
     ]
    }
   ],
   "source": [
    "word_tokens = re.findall(r\"[\\w']+|[-.,!?;()]\", results[67]['_source']['texto'])\n",
    "print('Total word tokens:', len(word_tokens))\n",
    "print(word_tokens)"
   ]
  },
  {
   "cell_type": "code",
   "execution_count": 521,
   "id": "2810ac30",
   "metadata": {},
   "outputs": [
    {
     "name": "stdout",
     "output_type": "stream",
     "text": [
      "Total WordPiece tokens: 909\n",
      "['[CLS]', 'Quando', 'o', 'conflito', 'se', 'intens', '##ifica', ',', 'a', 'luta', 'política', 'em', 'Israel', 'arre', '##fec', '##e', '.', 'Quando', 'o', 'país', 'fica', 'à', 'beira', 'da', 'guerra', ',', 'a', 'oposição', 'se', 'alinha', 'ao', 'governo', '.', 'Mas', 'não', 'desta', 'vez', '.', 'Enquanto', 'o', 'confronto', 'em', 'Gaza', 'provoca', 'destruição', 'e', 'a', 'violência', 'se', '##ct', '##ária', 'entre', 'árabes', 'e', 'judeus', 'se', 'intens', '##ifica', ',', 'um', 'dos', 'opositores', 'de', 'Bi', '##ny', '##ami', '##n', 'Net', '##any', '##ah', '##u', 'culpa', 'o', 'primeiro', '-', 'ministro', 'pela', 'sensação', 'de', 'caos', 'e', 'trabalha', 'para', 'ti', '##rá', '-', 'lo', 'do', 'cargo', '.', '<', 'b', '##r', '>', '<', 'b', '##r', '>', 'Ya', '##ir', 'La', '##pi', '##d', 'disse', 'que', 'os', 'acontecimentos', 'da', 'última', 'semana', \"'\", 'não', 'podem', 'servir', 'de', 'descul', '##pa', 'para', 'Net', '##any', '##ah', '##u', 'se', 'manter', 'no', 'poder', \"'\", '.', \"'\", 'É', 'por', 'isso', 'que', 'ele', 'deveria', 'ser', 'substituído', 'o', 'mais', 'rapidamente', 'possível', \"'\", ',', 'escreveu', 'La', '##pi', '##d', ',', 'no', 'Facebook', '.', '<', 'b', '##r', '>', '<', 'b', '##r', '>', 'A', 'escalada', 'da', 'crise', 'ocorre', 'em', 'um', 'momento', 'crucial', 'para', 'a', 'política', 'israelense', '.', 'Poucos', 'dias', 'atrás', ',', 'Net', '##any', '##ah', '##u', ',', 'que', 'é', 'julgado', 'por', 'corrupção', 'e', 'não', 'conseguiu', 'formar', 'governo', 'após', 'quatro', 'eleições', 'em', 'dois', 'anos', ',', 'parecia', 'prestes', 'a', 'perder', 'o', 'cargo', '.', 'La', '##pi', '##d', 'obteve', 'a', 'chance', 'de', 'formar', 'uma', 'coalizão', '.', 'Seus', 'parceiros', 'são', 'um', 'discre', '##pan', '##te', 'grupo', 'de', 'pequenos', 'partidos', 'com', 'agenda', '##s', 'confl', '##itante', '##s', ',', 'e', 'ele', 'tem', 'até', '2', 'de', 'junho', 'para', 'formar', 'uma', 'aliança', '.', '<', 'b', '##r', '>', '<', 'b', '##r', '>', 'O', 'der', '##rama', '##mento', 'de', 'sangue', 'tanto', 'facil', '##ita', 'quando', 'dificul', '##ta', 'o', 'esforço', 'de', 'La', '##pi', '##d', '.', 'Os', 'críticos', 'de', 'Net', '##any', '##ah', '##u', 'têm', 'agora', 'mais', 'razões', 'para', 'querer', 'vê', '-', 'lo', 'partir', '.', 'Mas', ',', 'ao', 'mesmo', 'tempo', ',', 'afirmam', 'analis', '##tas', ',', 'a', 'violência', 'enfa', '##tizou', 'as', 'diferenças', 'entre', 'os', 'partidos', 'de', 'oposição', '.', 'E', 'o', 'impulso', 'inicial', 'para', 'negociar', 'uma', 'coalizão', 'foi', 'reduzido', 'pela', 'violência', '.', \"'\", 'Fica', 'muito', 'difícil', 'negociar', 'enquanto', 'foguetes', 'estão', 'sendo', 'dispara', '##dos', 'e', 'o', 'prazo', 'para', 'formar', 'coalizão', 'se', 'aproxima', \"'\", ',', 'afirmou', 'Re', '##u', '##ven', 'Ha', '##zan', ',', 'professor', 'de', 'ciência', 'política', 'da', 'Universidade', 'He', '##bra', '##ica', 'de', 'Jerusalém', '.', \"'\", 'Neg', '##oc', '##ia', '##ções', 'que', 'já', 'seriam', 'complic', '##adas', 'ficaram', 'ainda', 'mais', 'complic', '##adas', ',', 'o', 'que', 'favore', '##ce', 'Net', '##any', '##ah', '##u', '.', \"'\", '<', 'b', '##r', '>', '<', 'b', '##r', '>', 'Um', 'dos', 'elementos', '-', 'chave', 'para', 'uma', 'coalizão', 'anti', '-', 'Net', '##any', '##ah', '##u', 'está', 'nas', 'mãos', 'de', 'Mans', '##our', 'Ab', '##bas', ',', 'líder', 'de', 'um', 'pequeno', 'partido', 'árabe', 'conhecido', 'como', 'Ra', \"'\", 'am', '.', 'Os', 'principais', 'partidos', 'que', 'governar', '##am', 'o', 'país', 'sempre', 'evitar', '##am', 'depender', 'de', 'votos', 'árabes', 'no', 'Parlamento', ',', 'particularmente', 'em', 'razão', 'do', 'foco', 'nas', 'questões', 'de', 'segurança', '.', 'E', 'legisla', '##dores', 'árabes', 'nunca', 'quis', '##eram', 'participar', 'de', 'governos', 'e', 'ter', 'de', 'compartilhar', 'responsa', '##bilidade', 'pelas', 'ações', 'militares', 'de', 'Israel', '.', '<', 'b', '##r', '>', '<', 'b', '##r', '>', 'Ab', '##bas', 'planeja', '##va', 'mudar', 'isso', '.', 'Após', 'negociações', 'com', 'Net', '##any', '##ah', '##u', 'fracass', '##are', '##m', ',', 'ele', 'se', 'incl', '##inou', 'para', 'uma', 'cooperação', 'com', 'La', '##pi', '##d', '.', 'Mas', ',', 'quando', 'as', 'tensões', 'religiosas', 'e', 'nacionalistas', 'explo', '##dir', '##am', ',', 'ele', 'suspe', '##ndeu', 'as', 'negociações', '.', 'Muitos', 'analis', '##tas', 'acreditam', 'que', 'a', 'escalada', 'de', 'violência', 'cria', 'novos', 'obstáculos', 'para', 'o', 'envolvimento', 'de', 'Ab', '##bas', 'na', 'coalizão', '.', 'O', 'apoio', 'dele', 'a', 'um', 'governo', 'que', 'inclui', 'israelense', '##s', 'de', 'direita', 'seria', 'difícil', 'de', 'eng', '##oli', '##r', 'para', 'sua', 'base', 'eleitoral', '.', \"'\", 'Se', 'as', 'ideologia', '##s', 'oposta', '##s', 'já', 'deixa', '##vam', 'muitos', 'com', 'um', 'pé', 'atrás', 'nas', 'negociações', ',', 'agora', 'eles', 'estão', 'com', 'os', 'dois', 'pés', 'atrás', \"'\", ',', 'afirmou', 'Ha', '##zan', '.', '<', 'b', '##r', '>', '<', 'b', '##r', '>', 'A', 'crise', 'pode', 'ajudar', 'Net', '##any', '##ah', '##u', 'a', 'conquistar', 'o', 'apoio', 'de', 'opositores', 'que', 'promete', '##ram', 'não', 'integrar', 'um', 'governo', 'liderado', 'por', 'ele', ',', 'afirmou', 'Mitchell', 'Bara', '##k', ',', 'analis', '##ta', 'com', 'base', 'em', 'Jerusalém', '.', \"'\", 'Net', '##any', '##ah', '##u', 'está', 'exatamente', 'onde', 'quer', 'estar', ',', 'no', 'meio', 'de', 'uma', 'grande', 'crise', 'que', 'faz', 'as', 'pessoas', 'não', 'querer', '##em', 'mudar', 'o', 'premi', '##ê', 'nem', 'o', 'ministro', 'da', 'Defesa', \"'\", ',', 'afirmou', 'Bara', '##k', '.', \"'\", 'Partido', 'e', 'políticos', 'não', 'querem', 'ser', 'cobra', '##dos', 'por', 'nenhuma', 'promessa', 'de', 'campanha', 'em', 'razão', 'dessa', 'situação', '.', \"'\", '<', 'b', '##r', '>', '<', 'b', '##r', '>', 'Um', 'dos', 'principais', 'rivais', 'do', 'premi', '##ê', ',', 'Ben', '##ny', 'Gan', '##tz', ',', 'ministro', 'da', 'Defesa', ',', 'supervision', '##a', 'a', 'campanha', 'militar', 'em', 'Gaza', 'em', 'coordenação', 'com', 'Net', '##any', '##ah', '##u', '.', 'Alguns', 'analis', '##tas', 'especul', '##am', 'que', 'essa', 'crise', 'pode', 'ajudá', '-', 'lo', 'a', 'persuad', '##ir', 'Gan', '##tz', 'a', 'ficar', 'do', 'seu', 'lado', 'e', 'mant', '##ê', '-', 'lo', 'no', 'poder', '.', 'Sob', 'o', 'acordo', 'de', 'coalizão', 'que', 'ambos', 'alcançaram', ',', 'no', 'ano', 'passado', ',', 'Gan', '##tz', 'assumir', '##ia', 'como', 'primeiro', '-', 'ministro', 'em', 'novembro', '.', 'Esse', 'pacto', 'ru', '##iu', 'em', 'razão', 'de', 'uma', 'crise', 'de', 'orçamento', ',', 'que', 'provocou', 'as', 'eleições', 'de', 'março', '.', '<', 'b', '##r', '>', '<', 'b', '##r', '>', \"'\", 'Eles', 'têm', 'de', 'coorden', '##ar', 'juntos', 'uma', 'guerra', ',', 'quando', 'não', 'conseguem', 'nem', 'manter', 'um', 'acordo', 'de', 'coalizão', \"'\", ',', 'disse', 'Da', '##hl', '##ia', 'Sche', '##ind', '##lin', ',', 'analis', '##ta', 'de', 'Tel', '-', 'Av', '##iv', '.', 'Ela', 'acrescentou', ',', 'porém', ',', 'que', \"'\", 'quanto', 'mais', 'próximos', 'da', 'guerra', 'total', ',', 'mais', 'fácil', 'fica', 'argumenta', '##r', 'que', 'não', 'é', 'possível', 'mudar', 'o', 'governo', \"'\", '.', '[SEP]']\n"
     ]
    }
   ],
   "source": [
    "wordpiece_tokens = tokenizer.convert_ids_to_tokens(tokenizer(results[67]['_source']['texto'], padding=True)['input_ids'])\n",
    "print('Total WordPiece tokens:', len(wordpiece_tokens))\n",
    "print(wordpiece_tokens)"
   ]
  },
  {
   "cell_type": "code",
   "execution_count": 570,
   "id": "a08e76ec",
   "metadata": {
    "scrolled": false
   },
   "outputs": [
    {
     "name": "stdout",
     "output_type": "stream",
     "text": [
      "LEGENDA DAS CORES:\n",
      "   \u001b[94mPESSOA\u001b[0m\n",
      "   \u001b[93mLOCAL\u001b[0m\n",
      "   \u001b[36mORGANIZAÇÃO PRIVADA\u001b[0m\n",
      "   \u001b[35mENTIDADE PÚBLICA\u001b[0m\n",
      "\n",
      "\n",
      "Quando\u001b[0m o\u001b[0m conflito\u001b[0m se\u001b[0m intensifica\u001b[0m ,\u001b[0m a\u001b[0m luta\u001b[0m política\u001b[0m em\u001b[0m \u001b[93mIsrael\u001b[0m arrefece\u001b[0m .\u001b[0m Quando\u001b[0m o\u001b[0m país\u001b[0m fica\u001b[0m à\u001b[0m beira\u001b[0m da\u001b[0m guerra\u001b[0m ,\u001b[0m a\u001b[0m oposição\u001b[0m se\u001b[0m alinha\u001b[0m ao\u001b[0m governo\u001b[0m .\u001b[0m Mas\u001b[0m não\u001b[0m desta\u001b[0m vez\u001b[0m .\u001b[0m Enquanto\u001b[0m o\u001b[0m confronto\u001b[0m em\u001b[0m \u001b[93mGaza\u001b[0m provoca\u001b[0m destruição\u001b[0m e\u001b[0m a\u001b[0m violência\u001b[0m sectária\u001b[0m entre\u001b[0m árabes\u001b[0m e\u001b[0m judeus\u001b[0m se\u001b[0m intensifica\u001b[0m ,\u001b[0m um\u001b[0m dos\u001b[0m opositores\u001b[0m de\u001b[0m \u001b[94mBinyamin\u001b[0m \u001b[94mNetanyahu\u001b[0m culpa\u001b[0m o\u001b[0m primeiro\u001b[0m -\u001b[0m ministro\u001b[0m pela\u001b[0m sensação\u001b[0m de\u001b[0m caos\u001b[0m e\u001b[0m trabalha\u001b[0m para\u001b[0m tirá\u001b[0m -\u001b[0m lo\u001b[0m do\u001b[0m cargo\u001b[0m .\u001b[0m <\u001b[0m br\u001b[0m >\u001b[0m <\u001b[0m br\u001b[0m >\u001b[0m \u001b[94mYair\u001b[0m \u001b[94mLapid\u001b[0m disse\u001b[0m que\u001b[0m os\u001b[0m acontecimentos\u001b[0m da\u001b[0m última\u001b[0m semana\u001b[0m '\u001b[0m não\u001b[0m podem\u001b[0m servir\u001b[0m de\u001b[0m desculpa\u001b[0m para\u001b[0m \u001b[94mNetanyahu\u001b[0m se\u001b[0m manter\u001b[0m no\u001b[0m poder\u001b[0m '\u001b[0m .\u001b[0m '\u001b[0m É\u001b[0m por\u001b[0m isso\u001b[0m que\u001b[0m ele\u001b[0m deveria\u001b[0m ser\u001b[0m substituído\u001b[0m o\u001b[0m mais\u001b[0m rapidamente\u001b[0m possível\u001b[0m '\u001b[0m ,\u001b[0m escreveu\u001b[0m \u001b[94mLapid\u001b[0m ,\u001b[0m no\u001b[0m \u001b[36mFacebook\u001b[0m .\u001b[0m <\u001b[0m br\u001b[0m >\u001b[0m <\u001b[0m br\u001b[0m >\u001b[0m A\u001b[0m escalada\u001b[0m da\u001b[0m crise\u001b[0m ocorre\u001b[0m em\u001b[0m um\u001b[0m momento\u001b[0m crucial\u001b[0m para\u001b[0m a\u001b[0m política\u001b[0m israelense\u001b[0m .\u001b[0m Poucos\u001b[0m dias\u001b[0m atrás\u001b[0m ,\u001b[0m \u001b[94mNetanyahu\u001b[0m ,\u001b[0m que\u001b[0m é\u001b[0m julgado\u001b[0m por\u001b[0m corrupção\u001b[0m e\u001b[0m não\u001b[0m conseguiu\u001b[0m formar\u001b[0m governo\u001b[0m após\u001b[0m quatro\u001b[0m eleições\u001b[0m em\u001b[0m dois\u001b[0m anos\u001b[0m ,\u001b[0m parecia\u001b[0m prestes\u001b[0m a\u001b[0m perder\u001b[0m o\u001b[0m cargo\u001b[0m .\u001b[0m \u001b[94mLapid\u001b[0m obteve\u001b[0m a\u001b[0m chance\u001b[0m de\u001b[0m formar\u001b[0m uma\u001b[0m coalizão\u001b[0m .\u001b[0m Seus\u001b[0m parceiros\u001b[0m são\u001b[0m um\u001b[0m discrepante\u001b[0m grupo\u001b[0m de\u001b[0m pequenos\u001b[0m partidos\u001b[0m com\u001b[0m agendas\u001b[0m conflitantes\u001b[0m ,\u001b[0m e\u001b[0m ele\u001b[0m tem\u001b[0m até\u001b[0m 2\u001b[0m de\u001b[0m junho\u001b[0m para\u001b[0m formar\u001b[0m uma\u001b[0m aliança\u001b[0m .\u001b[0m <\u001b[0m br\u001b[0m >\u001b[0m <\u001b[0m br\u001b[0m >\u001b[0m O\u001b[0m derramamento\u001b[0m de\u001b[0m sangue\u001b[0m tanto\u001b[0m facilita\u001b[0m quando\u001b[0m dificulta\u001b[0m o\u001b[0m esforço\u001b[0m de\u001b[0m \u001b[94mLapid\u001b[0m .\u001b[0m Os\u001b[0m críticos\u001b[0m de\u001b[0m \u001b[94mNetanyahu\u001b[0m têm\u001b[0m agora\u001b[0m mais\u001b[0m razões\u001b[0m para\u001b[0m querer\u001b[0m vê\u001b[0m -\u001b[0m lo\u001b[0m partir\u001b[0m .\u001b[0m Mas\u001b[0m ,\u001b[0m ao\u001b[0m mesmo\u001b[0m tempo\u001b[0m ,\u001b[0m afirmam\u001b[0m analistas\u001b[0m ,\u001b[0m a\u001b[0m violência\u001b[0m enfatizou\u001b[0m as\u001b[0m diferenças\u001b[0m entre\u001b[0m os\u001b[0m partidos\u001b[0m de\u001b[0m oposição\u001b[0m .\u001b[0m E\u001b[0m o\u001b[0m impulso\u001b[0m inicial\u001b[0m para\u001b[0m negociar\u001b[0m uma\u001b[0m coalizão\u001b[0m foi\u001b[0m reduzido\u001b[0m pela\u001b[0m violência\u001b[0m .\u001b[0m '\u001b[0m Fica\u001b[0m muito\u001b[0m difícil\u001b[0m negociar\u001b[0m enquanto\u001b[0m foguetes\u001b[0m estão\u001b[0m sendo\u001b[0m disparados\u001b[0m e\u001b[0m o\u001b[0m prazo\u001b[0m para\u001b[0m formar\u001b[0m coalizão\u001b[0m se\u001b[0m aproxima\u001b[0m '\u001b[0m ,\u001b[0m afirmou\u001b[0m \u001b[94mReuven\u001b[0m \u001b[94mHazan\u001b[0m ,\u001b[0m professor\u001b[0m de\u001b[0m ciência\u001b[0m política\u001b[0m da\u001b[0m \u001b[35mUniversidade\u001b[0m \u001b[35mHebraica\u001b[0m \u001b[35mde\u001b[0m \u001b[35mJerusalém\u001b[0m .\u001b[0m '\u001b[0m Negociações\u001b[0m que\u001b[0m já\u001b[0m seriam\u001b[0m complicadas\u001b[0m ficaram\u001b[0m ainda\u001b[0m mais\u001b[0m complicadas\u001b[0m ,\u001b[0m o\u001b[0m que\u001b[0m favorece\u001b[0m \u001b[94mNetanyahu\u001b[0m .\u001b[0m '\u001b[0m <\u001b[0m br\u001b[0m >\u001b[0m <\u001b[0m br\u001b[0m >\u001b[0m Um\u001b[0m dos\u001b[0m elementos\u001b[0m -\u001b[0m chave\u001b[0m para\u001b[0m uma\u001b[0m coalizão\u001b[0m anti\u001b[0m -\u001b[0m \u001b[94mNetanyahu\u001b[0m está\u001b[0m nas\u001b[0m mãos\u001b[0m de\u001b[0m \u001b[94mMansour\u001b[0m \u001b[94mAbbas\u001b[0m ,\u001b[0m líder\u001b[0m de\u001b[0m um\u001b[0m pequeno\u001b[0m partido\u001b[0m árabe\u001b[0m conhecido\u001b[0m como\u001b[0m Ra\u001b[0m '\u001b[0m am\u001b[0m .\u001b[0m Os\u001b[0m principais\u001b[0m partidos\u001b[0m que\u001b[0m governaram\u001b[0m o\u001b[0m país\u001b[0m sempre\u001b[0m evitaram\u001b[0m depender\u001b[0m de\u001b[0m votos\u001b[0m árabes\u001b[0m no\u001b[0m Parlamento\u001b[0m ,\u001b[0m particularmente\u001b[0m em\u001b[0m razão\u001b[0m do\u001b[0m foco\u001b[0m nas\u001b[0m questões\u001b[0m de\u001b[0m segurança\u001b[0m .\u001b[0m E\u001b[0m legisladores\u001b[0m árabes\u001b[0m nunca\u001b[0m quiseram\u001b[0m participar\u001b[0m de\u001b[0m governos\u001b[0m e\u001b[0m ter\u001b[0m de\u001b[0m compartilhar\u001b[0m responsabilidade\u001b[0m pelas\u001b[0m ações\u001b[0m militares\u001b[0m de\u001b[0m Israel\u001b[0m .\u001b[0m <\u001b[0m br\u001b[0m >\u001b[0m <\u001b[0m br\u001b[0m >\u001b[0m \u001b[94mAbbas\u001b[0m planejava\u001b[0m mudar\u001b[0m isso\u001b[0m .\u001b[0m Após\u001b[0m negociações\u001b[0m com\u001b[0m \u001b[94mNetanyahu\u001b[0m \n",
      "\n",
      "fracassarem\u001b[0m ,\u001b[0m ele\u001b[0m se\u001b[0m inclinou\u001b[0m para\u001b[0m uma\u001b[0m cooperação\u001b[0m com\u001b[0m Lapid\u001b[0m .\u001b[0m Mas\u001b[0m ,\u001b[0m quando\u001b[0m as\u001b[0m tensões\u001b[0m religiosas\u001b[0m e\u001b[0m nacionalistas\u001b[0m explodiram\u001b[0m ,\u001b[0m ele\u001b[0m suspendeu\u001b[0m as\u001b[0m negociações\u001b[0m .\u001b[0m Muitos\u001b[0m analistas\u001b[0m acreditam\u001b[0m que\u001b[0m a\u001b[0m escalada\u001b[0m de\u001b[0m violência\u001b[0m cria\u001b[0m novos\u001b[0m obstáculos\u001b[0m para\u001b[0m o\u001b[0m envolvimento\u001b[0m de\u001b[0m \u001b[94mAbbas\u001b[0m na\u001b[0m coalizão\u001b[0m .\u001b[0m O\u001b[0m apoio\u001b[0m dele\u001b[0m a\u001b[0m um\u001b[0m governo\u001b[0m que\u001b[0m inclui\u001b[0m israelenses\u001b[0m de\u001b[0m direita\u001b[0m seria\u001b[0m difícil\u001b[0m de\u001b[0m engolir\u001b[0m para\u001b[0m sua\u001b[0m base\u001b[0m eleitoral\u001b[0m .\u001b[0m '\u001b[0m Se\u001b[0m as\u001b[0m ideologias\u001b[0m opostas\u001b[0m já\u001b[0m deixavam\u001b[0m muitos\u001b[0m com\u001b[0m um\u001b[0m pé\u001b[0m atrás\u001b[0m nas\u001b[0m negociações\u001b[0m ,\u001b[0m agora\u001b[0m eles\u001b[0m estão\u001b[0m com\u001b[0m os\u001b[0m dois\u001b[0m pés\u001b[0m atrás\u001b[0m '\u001b[0m ,\u001b[0m afirmou\u001b[0m \u001b[94mHazan\u001b[0m .\u001b[0m <\u001b[0m br\u001b[0m >\u001b[0m <\u001b[0m br\u001b[0m >\u001b[0m A\u001b[0m crise\u001b[0m pode\u001b[0m ajudar\u001b[0m \u001b[94mNetanyahu\u001b[0m a\u001b[0m conquistar\u001b[0m o\u001b[0m apoio\u001b[0m de\u001b[0m opositores\u001b[0m que\u001b[0m prometeram\u001b[0m não\u001b[0m integrar\u001b[0m um\u001b[0m governo\u001b[0m liderado\u001b[0m por\u001b[0m ele\u001b[0m ,\u001b[0m afirmou\u001b[0m \u001b[94mMitchell\u001b[0m \u001b[94mBarak\u001b[0m ,\u001b[0m analista\u001b[0m com\u001b[0m base\u001b[0m em\u001b[0m \u001b[93mJerusalém\u001b[0m .\u001b[0m '\u001b[0m \u001b[94mNetanyahu\u001b[0m está\u001b[0m exatamente\u001b[0m onde\u001b[0m quer\u001b[0m estar\u001b[0m ,\u001b[0m no\u001b[0m meio\u001b[0m de\u001b[0m uma\u001b[0m grande\u001b[0m crise\u001b[0m que\u001b[0m faz\u001b[0m as\u001b[0m pessoas\u001b[0m não\u001b[0m quererem\u001b[0m mudar\u001b[0m o\u001b[0m premiê\u001b[0m nem\u001b[0m o\u001b[0m ministro\u001b[0m da\u001b[0m Defesa\u001b[0m '\u001b[0m ,\u001b[0m afirmou\u001b[0m \u001b[94mBarak\u001b[0m .\u001b[0m '\u001b[0m Partido\u001b[0m e\u001b[0m políticos\u001b[0m não\u001b[0m querem\u001b[0m ser\u001b[0m cobrados\u001b[0m por\u001b[0m nenhuma\u001b[0m promessa\u001b[0m de\u001b[0m campanha\u001b[0m em\u001b[0m razão\u001b[0m dessa\u001b[0m situação\u001b[0m .\u001b[0m '\u001b[0m <\u001b[0m br\u001b[0m >\u001b[0m <\u001b[0m br\u001b[0m >\u001b[0m Um\u001b[0m dos\u001b[0m principais\u001b[0m rivais\u001b[0m do\u001b[0m premiê\u001b[0m ,\u001b[0m \u001b[94mBenny\u001b[0m \u001b[94mGantz\u001b[0m ,\u001b[0m ministro\u001b[0m da\u001b[0m Defesa\u001b[0m ,\u001b[0m supervisiona\u001b[0m a\u001b[0m campanha\u001b[0m militar\u001b[0m em\u001b[0m \u001b[93mGaza\u001b[0m em\u001b[0m coordenação\u001b[0m com\u001b[0m \u001b[94mNetanyahu\u001b[0m .\u001b[0m Alguns\u001b[0m analistas\u001b[0m especulam\u001b[0m que\u001b[0m essa\u001b[0m crise\u001b[0m pode\u001b[0m ajudá\u001b[0m -\u001b[0m lo\u001b[0m a\u001b[0m persuadir\u001b[0m \u001b[94mGantz\u001b[0m a\u001b[0m ficar\u001b[0m do\u001b[0m seu\u001b[0m lado\u001b[0m e\u001b[0m mantê\u001b[0m -\u001b[0m lo\u001b[0m no\u001b[0m poder\u001b[0m .\u001b[0m Sob\u001b[0m o\u001b[0m acordo\u001b[0m de\u001b[0m coalizão\u001b[0m que\u001b[0m ambos\u001b[0m alcançaram\u001b[0m ,\u001b[0m no\u001b[0m ano\u001b[0m passado\u001b[0m ,\u001b[0m \u001b[94mGantz\u001b[0m assumiria\u001b[0m como\u001b[0m primeiro\u001b[0m -\u001b[0m ministro\u001b[0m em\u001b[0m novembro\u001b[0m .\u001b[0m Esse\u001b[0m pacto\u001b[0m ruiu\u001b[0m em\u001b[0m razão\u001b[0m de\u001b[0m uma\u001b[0m crise\u001b[0m de\u001b[0m orçamento\u001b[0m ,\u001b[0m que\u001b[0m provocou\u001b[0m as\u001b[0m eleições\u001b[0m de\u001b[0m março\u001b[0m .\u001b[0m <\u001b[0m br\u001b[0m >\u001b[0m <\u001b[0m br\u001b[0m >\u001b[0m '\u001b[0m Eles\u001b[0m têm\u001b[0m de\u001b[0m coordenar\u001b[0m juntos\u001b[0m uma\u001b[0m guerra\u001b[0m ,\u001b[0m quando\u001b[0m não\u001b[0m conseguem\u001b[0m nem\u001b[0m manter\u001b[0m um\u001b[0m acordo\u001b[0m de\u001b[0m coalizão\u001b[0m '\u001b[0m ,\u001b[0m disse\u001b[0m \u001b[94mDahlia\u001b[0m \u001b[94mScheindlin\u001b[0m ,\u001b[0m analista\u001b[0m de\u001b[0m \u001b[93mTel\u001b[0m \u001b[93m-\u001b[0m \u001b[93mAviv\u001b[0m .\u001b[0m Ela\u001b[0m acrescentou\u001b[0m ,\u001b[0m porém\u001b[0m ,\u001b[0m que\u001b[0m '\u001b[0m quanto\u001b[0m mais\u001b[0m próximos\u001b[0m da\u001b[0m guerra\u001b[0m total\u001b[0m ,\u001b[0m mais\u001b[0m fácil\u001b[0m fica\u001b[0m argumentar\u001b[0m que\u001b[0m não\u001b[0m é\u001b[0m possível\u001b[0m mudar\u001b[0m o\u001b[0m governo\u001b[0m '\u001b[0m .\u001b[0m "
     ]
    }
   ],
   "source": [
    "# corrigir os tamanhos, pois está quebrando palavras no meio e não separando tokens\n",
    "max_size = 512 - tokenizer.num_special_tokens_to_add()\n",
    "text_index_begin = 0\n",
    "text_index_limit = max_size\n",
    "print_legenda()\n",
    "\n",
    "index = 67\n",
    "# 10, 14, 20 (grande), 46 (grande e com erros) são lixo\n",
    "# 17, 27, 29 (sem pontuação nem case), 47-50 são gigantescas (53, 54, 56, 58 - 60, 63, 65)\n",
    "# 17 fora\n",
    "for result in results[index:index+1]:\n",
    "    all_tokens = tokenizer.convert_ids_to_tokens(tokenizer(result['_source']['texto'], padding=True)['input_ids'], skip_special_tokens=True)\n",
    "    while all_tokens[text_index_begin:text_index_limit]:\n",
    "        found_subword = all_tokens[text_index_limit-1][:2] == '##'\n",
    "        while all_tokens[text_index_limit-1][:2] == '##':\n",
    "            text_index_limit -= 1\n",
    "\n",
    "        if found_subword: #Remove the first subword with no ## at the beginning\n",
    "            text_index_limit -= 1\n",
    "        annotated_text = predict(tokenizer.convert_tokens_to_string(all_tokens[text_index_begin:text_index_limit]))\n",
    "        for item in annotated_text:\n",
    "            print(item[0], end=' ')\n",
    "            \n",
    "        text_index_begin = min(text_index_limit, len(all_tokens))\n",
    "        text_index_limit = min(text_index_limit+max_size, len(all_tokens))\n",
    "\n",
    "# for trecho in \n",
    "# text = result['_source']['texto'][:512]\n",
    "# annotated_text = predict(text)\n",
    "# for item in annotated_text:\n",
    "#     print(item[0], end=' ')\n",
    "# for result in results:\n",
    "#     pass"
   ]
  }
 ],
 "metadata": {
  "kernelspec": {
   "display_name": "ner-unb",
   "language": "python",
   "name": "ner-unb"
  },
  "language_info": {
   "codemirror_mode": {
    "name": "ipython",
    "version": 3
   },
   "file_extension": ".py",
   "mimetype": "text/x-python",
   "name": "python",
   "nbconvert_exporter": "python",
   "pygments_lexer": "ipython3",
   "version": "3.8.8"
  }
 },
 "nbformat": 4,
 "nbformat_minor": 5
}
